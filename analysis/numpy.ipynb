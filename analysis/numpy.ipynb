{
 "cells": [
  {
   "cell_type": "code",
   "execution_count": null,
   "metadata": {},
   "outputs": [],
   "source": [
    "# numpy is a library that allows for the use of arrays  \n",
    "import numpy as np"
   ]
  },
  {
   "cell_type": "code",
   "execution_count": 4,
   "metadata": {},
   "outputs": [
    {
     "name": "stdout",
     "output_type": "stream",
     "text": [
      "[1 2 3 4]\n",
      "[5 6 7 8]\n"
     ]
    }
   ],
   "source": [
    "a=np.array([1,2,3,4])\n",
    "b=np.array([5,6,7,8])\n",
    "print(a)\n",
    "print(b)"
   ]
  },
  {
   "cell_type": "code",
   "execution_count": 5,
   "metadata": {},
   "outputs": [
    {
     "data": {
      "text/plain": [
       "numpy.ndarray"
      ]
     },
     "execution_count": 5,
     "metadata": {},
     "output_type": "execute_result"
    }
   ],
   "source": [
    "type(a)"
   ]
  },
  {
   "cell_type": "markdown",
   "metadata": {},
   "source": [
    "Basic operation of Array."
   ]
  },
  {
   "cell_type": "code",
   "execution_count": 7,
   "metadata": {},
   "outputs": [
    {
     "name": "stdout",
     "output_type": "stream",
     "text": [
      "[ 6  8 10 12]\n",
      "[-4 -4 -4 -4]\n",
      "[ 5 12 21 32]\n",
      "[0.2        0.33333333 0.42857143 0.5       ]\n"
     ]
    }
   ],
   "source": [
    "print(a+b)\n",
    "print(a-b)\n",
    "print(a*b)\n",
    "print(a/b)\n"
   ]
  },
  {
   "cell_type": "code",
   "execution_count": 8,
   "metadata": {},
   "outputs": [
    {
     "name": "stdout",
     "output_type": "stream",
     "text": [
      "[[1 2]\n",
      " [3 4]]\n"
     ]
    }
   ],
   "source": [
    "# Creating a 2D array\n",
    "a=np.array([[1,2],[3,4]])\n",
    "print(a)"
   ]
  },
  {
   "cell_type": "code",
   "execution_count": 10,
   "metadata": {},
   "outputs": [
    {
     "name": "stdout",
     "output_type": "stream",
     "text": [
      "[[[1 2]\n",
      "  [3 4]\n",
      "  [5 6]\n",
      "  [7 8]]]\n"
     ]
    }
   ],
   "source": [
    "# Creating a 3D array.\n",
    "a=np.array([[[1,2],[3,4],[5,6],[7,8]]])\n",
    "print(a)"
   ]
  },
  {
   "cell_type": "code",
   "execution_count": 14,
   "metadata": {},
   "outputs": [
    {
     "name": "stdout",
     "output_type": "stream",
     "text": [
      "(1, 4, 2)\n"
     ]
    }
   ],
   "source": [
    "# Method\n",
    "print(a.shape) #(2,2,2) 2 arrays, 2 row,2 column\n"
   ]
  },
  {
   "cell_type": "code",
   "execution_count": null,
   "metadata": {},
   "outputs": [
    {
     "name": "stdout",
     "output_type": "stream",
     "text": [
      "3\n"
     ]
    }
   ],
   "source": [
    "print(a.ndim) # array type find out ."
   ]
  },
  {
   "cell_type": "code",
   "execution_count": 17,
   "metadata": {},
   "outputs": [
    {
     "name": "stdout",
     "output_type": "stream",
     "text": [
      "[[[1 2 3]\n",
      "  [4 5 6]\n",
      "  [7 8 9]]]\n",
      "[[[ 6  7  5]\n",
      "  [10 11 12]\n",
      "  [13 14 15]]]\n",
      "3\n",
      "3\n"
     ]
    }
   ],
   "source": [
    "x=np.array([[[1,2,3],[4,5,6],[7,8,9]]])\n",
    "y=np.array([[[6,7,5],[10,11,12],[13,14,15]]])\n",
    "print(x)\n",
    "print(y)\n",
    "print(x.ndim)\n",
    "print(y.ndim)"
   ]
  },
  {
   "cell_type": "code",
   "execution_count": null,
   "metadata": {},
   "outputs": [
    {
     "name": "stdout",
     "output_type": "stream",
     "text": [
      "int64\n"
     ]
    }
   ],
   "source": [
    "print(a.dtype) # find out the array in element."
   ]
  },
  {
   "cell_type": "code",
   "execution_count": 19,
   "metadata": {},
   "outputs": [
    {
     "data": {
      "text/plain": [
       "array([0, 1, 2, 3, 4, 5, 6, 7, 8, 9])"
      ]
     },
     "execution_count": 19,
     "metadata": {},
     "output_type": "execute_result"
    }
   ],
   "source": [
    "np.arange(10)"
   ]
  },
  {
   "cell_type": "code",
   "execution_count": 21,
   "metadata": {},
   "outputs": [
    {
     "data": {
      "text/plain": [
       "array([ 2,  4,  6,  8, 10])"
      ]
     },
     "execution_count": 21,
     "metadata": {},
     "output_type": "execute_result"
    }
   ],
   "source": [
    "np.arange(2,11,2)"
   ]
  },
  {
   "cell_type": "code",
   "execution_count": 22,
   "metadata": {},
   "outputs": [
    {
     "data": {
      "text/plain": [
       "array([[12, 17, 26],\n",
       "       [22, 25, 29],\n",
       "       [11, 15, 18]], dtype=int32)"
      ]
     },
     "execution_count": 22,
     "metadata": {},
     "output_type": "execute_result"
    }
   ],
   "source": [
    "np.random.randint(10,30, size=(3,3))"
   ]
  },
  {
   "cell_type": "code",
   "execution_count": 23,
   "metadata": {},
   "outputs": [
    {
     "name": "stdout",
     "output_type": "stream",
     "text": [
      "[[7 2 3]\n",
      " [2 5 2]\n",
      " [3 5 1]]\n",
      "[[1 8 3]\n",
      " [3 7 2]\n",
      " [2 5 3]]\n"
     ]
    }
   ],
   "source": [
    "x=np.array([[7,2,3],\n",
    "            [2,5,2],\n",
    "            [3,5,1]])\n",
    "y=np.array([[1,8,3],\n",
    "            [3,7,2],\n",
    "            [2,5,3]])\n",
    "print(x)\n",
    "print(y)"
   ]
  },
  {
   "cell_type": "code",
   "execution_count": 6,
   "metadata": {},
   "outputs": [
    {
     "name": "stdout",
     "output_type": "stream",
     "text": [
      "106\n",
      "726.1224489795919\n",
      "26.94665932874782\n"
     ]
    }
   ],
   "source": [
    "print(x.sum()) # it gives the sum of all the elements of the array\n",
    "print(x.var()) # it gives the variance of all the elements of the array.\n",
    "print(x.std()) # it gives the standard deviation of all the elements of the array.\n"
   ]
  },
  {
   "cell_type": "code",
   "execution_count": 7,
   "metadata": {},
   "outputs": [
    {
     "name": "stdout",
     "output_type": "stream",
     "text": [
      "3.0\n",
      "5.0\n",
      "7.0\n"
     ]
    }
   ],
   "source": [
    "a=np.array([1,2,3,4,5,6,7,8,9])\n",
    "print(np.percentile(a,25)) # it gives the 25th percentile of the array\n",
    "print(np.percentile(a,50)) # it gives the 50th percentile of the arra\n",
    "print(np.percentile(a,75)) # it gives the 75th percentile of the arra"
   ]
  },
  {
   "cell_type": "code",
   "execution_count": 9,
   "metadata": {},
   "outputs": [
    {
     "name": "stdout",
     "output_type": "stream",
     "text": [
      "[[41 25 45 43]\n",
      " [18 33 49 39]\n",
      " [29 28 33 36]\n",
      " [35 17 47 29]]\n"
     ]
    }
   ],
   "source": [
    "arr=np.random.randint(10,50,size=(4,4))\n",
    "print(arr)"
   ]
  },
  {
   "cell_type": "code",
   "execution_count": 11,
   "metadata": {},
   "outputs": [
    {
     "name": "stdout",
     "output_type": "stream",
     "text": [
      "[[41 25]\n",
      " [45 43]\n",
      " [18 33]\n",
      " [49 39]\n",
      " [29 28]\n",
      " [33 36]\n",
      " [35 17]\n",
      " [47 29]]\n",
      "\n",
      "[[41 25 45 43 18 33 49 39]\n",
      " [29 28 33 36 35 17 47 29]]\n"
     ]
    }
   ],
   "source": [
    "print(arr.reshape(8,2))\n",
    "print()\n",
    "print(arr.reshape(2,8))"
   ]
  },
  {
   "cell_type": "code",
   "execution_count": null,
   "metadata": {},
   "outputs": [
    {
     "name": "stdout",
     "output_type": "stream",
     "text": [
      "[[7 2 3]\n",
      " [2 5 2]\n",
      " [3 5 1]]\n",
      "7\n"
     ]
    }
   ],
   "source": [
    "x=np.array([[7,2,3],\n",
    "            [2,5,2],\n",
    "            [3,5,1]])\n",
    "print(x)\n",
    "print(x[0,0])\n"
   ]
  },
  {
   "cell_type": "code",
   "execution_count": 16,
   "metadata": {},
   "outputs": [
    {
     "name": "stdout",
     "output_type": "stream",
     "text": [
      "[[7 2 3]\n",
      " [2 5 2]\n",
      " [3 5 1]]\n",
      "[]\n",
      "[[3 5 1]]\n"
     ]
    }
   ],
   "source": [
    "print(x[:3])\n",
    "print(x[3:])\n",
    "print(x[2:])"
   ]
  },
  {
   "cell_type": "markdown",
   "metadata": {},
   "source": [
    "Spacial Numpy Array"
   ]
  },
  {
   "cell_type": "code",
   "execution_count": 2,
   "metadata": {},
   "outputs": [
    {
     "name": "stdout",
     "output_type": "stream",
     "text": [
      "[0. 0. 0. 0.]\n"
     ]
    }
   ],
   "source": [
    "# Zeros Function\n",
    "import numpy as np\n",
    "ay_ze=np.zeros(4)\n",
    "print(ay_ze)"
   ]
  },
  {
   "cell_type": "code",
   "execution_count": 4,
   "metadata": {},
   "outputs": [
    {
     "name": "stdout",
     "output_type": "stream",
     "text": [
      "[[0. 0. 0. 0.]\n",
      " [0. 0. 0. 0.]\n",
      " [0. 0. 0. 0.]]\n"
     ]
    }
   ],
   "source": [
    "import numpy as np\n",
    "ay_zero1=np.zeros((3,4))\n",
    "print(ay_zero1)"
   ]
  },
  {
   "cell_type": "code",
   "execution_count": 6,
   "metadata": {},
   "outputs": [
    {
     "name": "stdout",
     "output_type": "stream",
     "text": [
      "[[0. 0. 0. 0. 0.]\n",
      " [0. 0. 0. 0. 0.]]\n"
     ]
    }
   ],
   "source": [
    "import numpy as np\n",
    "b=np.zeros((2,5))\n",
    "print(b)"
   ]
  },
  {
   "cell_type": "code",
   "execution_count": 7,
   "metadata": {},
   "outputs": [
    {
     "name": "stdout",
     "output_type": "stream",
     "text": [
      "[[1. 1. 1. 1. 1. 1.]\n",
      " [1. 1. 1. 1. 1. 1.]\n",
      " [1. 1. 1. 1. 1. 1.]\n",
      " [1. 1. 1. 1. 1. 1.]]\n"
     ]
    }
   ],
   "source": [
    "#ones function\n",
    "import numpy as np\n",
    "ay_one=np.ones((4,6))\n",
    "print(ay_one)"
   ]
  },
  {
   "cell_type": "code",
   "execution_count": 9,
   "metadata": {},
   "outputs": [
    {
     "name": "stdout",
     "output_type": "stream",
     "text": [
      "[1. 1. 1. 1.]\n"
     ]
    }
   ],
   "source": [
    "import numpy as np\n",
    "ar_one1=np.ones(4)\n",
    "print(ar_one1)"
   ]
  },
  {
   "cell_type": "code",
   "execution_count": null,
   "metadata": {},
   "outputs": [
    {
     "name": "stdout",
     "output_type": "stream",
     "text": [
      "[1. 1. 1. 1.]\n"
     ]
    }
   ],
   "source": [
    "# Empty array\n",
    "import numpy as np \n",
    "ar_em=np.empty(4)\n",
    "print(ar_em)"
   ]
  },
  {
   "cell_type": "code",
   "execution_count": 11,
   "metadata": {},
   "outputs": [
    {
     "name": "stdout",
     "output_type": "stream",
     "text": [
      "[0 2 4 6 8]\n"
     ]
    }
   ],
   "source": [
    "# Range function\n",
    "ar_ran=np.arange(0,10,2)\n",
    "print(ar_ran)"
   ]
  },
  {
   "cell_type": "code",
   "execution_count": 14,
   "metadata": {},
   "outputs": [
    {
     "name": "stdout",
     "output_type": "stream",
     "text": [
      "[[1. 0. 0.]\n",
      " [0. 1. 0.]\n",
      " [0. 0. 1.]]\n"
     ]
    }
   ],
   "source": [
    "#Diagonal Array\n",
    "import numpy as np\n",
    "ar_dia=np.eye(3)\n",
    "print(ar_dia)"
   ]
  },
  {
   "cell_type": "code",
   "execution_count": 15,
   "metadata": {},
   "outputs": [
    {
     "name": "stdout",
     "output_type": "stream",
     "text": [
      "[[1. 0. 0. 0. 0.]\n",
      " [0. 1. 0. 0. 0.]\n",
      " [0. 0. 1. 0. 0.]]\n"
     ]
    }
   ],
   "source": [
    "import numpy as np\n",
    "ar_dia1=np.eye(3,5)\n",
    "print(ar_dia1)"
   ]
  },
  {
   "cell_type": "code",
   "execution_count": 17,
   "metadata": {},
   "outputs": [
    {
     "name": "stdout",
     "output_type": "stream",
     "text": [
      "[ 0.  5. 10. 15. 20.]\n"
     ]
    }
   ],
   "source": [
    "# linspace function\n",
    "import numpy as np\n",
    "lin_spe=np.linspace(0,20, num=5)\n",
    "print(lin_spe)"
   ]
  },
  {
   "cell_type": "markdown",
   "metadata": {},
   "source": [
    "Random function in Array\n",
    "-rand()\n",
    "-randn()\n",
    "-ranf()\n",
    "-randint()"
   ]
  },
  {
   "cell_type": "code",
   "execution_count": 18,
   "metadata": {},
   "outputs": [
    {
     "name": "stdout",
     "output_type": "stream",
     "text": [
      "[0.23480678 0.76684603 0.2937078  0.48753998]\n"
     ]
    }
   ],
   "source": [
    "# rand()\n",
    "import numpy as np\n",
    "var1=np.random.rand(4)\n",
    "print(var1)"
   ]
  },
  {
   "cell_type": "code",
   "execution_count": 20,
   "metadata": {},
   "outputs": [
    {
     "name": "stdout",
     "output_type": "stream",
     "text": [
      "[-0.98751192 -1.80274462  0.3807829 ]\n"
     ]
    }
   ],
   "source": [
    "# randn()\n",
    "import numpy as np\n",
    "var2=np.random.randn(3)\n",
    "print(var2)"
   ]
  },
  {
   "cell_type": "code",
   "execution_count": 21,
   "metadata": {},
   "outputs": [
    {
     "name": "stdout",
     "output_type": "stream",
     "text": [
      "[0.46796918 0.70054249 0.78084155]\n"
     ]
    }
   ],
   "source": [
    "# ranf()\n",
    "import numpy as np\n",
    "var3=np.random.ranf(3)\n",
    "print(var3)"
   ]
  },
  {
   "cell_type": "code",
   "execution_count": 22,
   "metadata": {},
   "outputs": [
    {
     "name": "stdout",
     "output_type": "stream",
     "text": [
      "[9 9 5 9 1]\n"
     ]
    }
   ],
   "source": [
    "# randint\n",
    "import numpy as np\n",
    "var4=np.random.randint(1,10,5)\n",
    "print(var4)"
   ]
  },
  {
   "cell_type": "markdown",
   "metadata": {},
   "source": [
    "Data Types in numpy Array."
   ]
  },
  {
   "cell_type": "code",
   "execution_count": 1,
   "metadata": {},
   "outputs": [
    {
     "name": "stdout",
     "output_type": "stream",
     "text": [
      "int64\n"
     ]
    }
   ],
   "source": [
    "import numpy as np\n",
    "var7=np.array([1,2,3,4,5])\n",
    "print(var7.dtype)"
   ]
  },
  {
   "cell_type": "code",
   "execution_count": 2,
   "metadata": {},
   "outputs": [
    {
     "name": "stdout",
     "output_type": "stream",
     "text": [
      "float64\n"
     ]
    }
   ],
   "source": [
    "import numpy as np\n",
    "var8=np.array([1.2,6.7,99.0,22.1])\n",
    "print(var8.dtype)"
   ]
  },
  {
   "cell_type": "code",
   "execution_count": 3,
   "metadata": {},
   "outputs": [
    {
     "name": "stdout",
     "output_type": "stream",
     "text": [
      "<U1\n"
     ]
    }
   ],
   "source": [
    "import numpy as np\n",
    "var11=np.array([\"s\",\"y\",\"u\",\"k\"])\n",
    "print(var11.dtype)"
   ]
  },
  {
   "cell_type": "markdown",
   "metadata": {},
   "source": [
    "DataTypes convert to another datatype.\n"
   ]
  },
  {
   "cell_type": "code",
   "execution_count": 1,
   "metadata": {},
   "outputs": [
    {
     "name": "stdout",
     "output_type": "stream",
     "text": [
      "[1. 2. 3. 4.]\n",
      "float32\n"
     ]
    }
   ],
   "source": [
    "# datatypes\n",
    "import numpy as np\n",
    "x=np.array([1,2,3,4],dtype=\"f\")\n",
    "print(x)\n",
    "print(x.dtype)"
   ]
  },
  {
   "cell_type": "code",
   "execution_count": 2,
   "metadata": {},
   "outputs": [
    {
     "name": "stdout",
     "output_type": "stream",
     "text": [
      "[2 3 4 5 6]\n",
      "[2. 3. 4. 5. 6.]\n"
     ]
    }
   ],
   "source": [
    "import numpy as np\n",
    "y=np.array([2,3,4,5,6])\n",
    "c=y.astype(float)\n",
    "print(y)\n",
    "print(c)"
   ]
  },
  {
   "cell_type": "code",
   "execution_count": null,
   "metadata": {},
   "outputs": [
    {
     "name": "stdout",
     "output_type": "stream",
     "text": [
      "[[1 2]\n",
      " [3 4]\n",
      " [5 6]]\n"
     ]
    }
   ],
   "source": [
    "# Reshape - one dimensional convert into multidimensional array.\n",
    "import numpy as np\n",
    "var2=np.array([1,2,3,4,5,6])\n",
    "print(var2.reshape(3,2))"
   ]
  },
  {
   "cell_type": "code",
   "execution_count": null,
   "metadata": {},
   "outputs": [
    {
     "name": "stdout",
     "output_type": "stream",
     "text": [
      "[1 2 3 4 5 6 7 8]\n"
     ]
    }
   ],
   "source": [
    "import numpy as np # Two dimensional array to convert one dimensional array\n",
    "h=np.array([[1,2,3,4],[5,6,7,8]])\n",
    "print(h.reshape(-1))"
   ]
  },
  {
   "cell_type": "markdown",
   "metadata": {},
   "source": [
    "Arithmetic operation."
   ]
  },
  {
   "cell_type": "code",
   "execution_count": 6,
   "metadata": {},
   "outputs": [
    {
     "name": "stdout",
     "output_type": "stream",
     "text": [
      "[3 5 7 9]\n"
     ]
    }
   ],
   "source": [
    "# One D Array\n",
    "import numpy as np\n",
    "a=np.array([1,2,3,4])\n",
    "b=np.array([2,3,4,5])\n",
    "print(a+b)"
   ]
  },
  {
   "cell_type": "code",
   "execution_count": 7,
   "metadata": {},
   "outputs": [
    {
     "name": "stdout",
     "output_type": "stream",
     "text": [
      "[-1 -1 -1 -1]\n"
     ]
    }
   ],
   "source": [
    "import numpy as np\n",
    "a=np.array([1,2,3,4])\n",
    "b=np.array([2,3,4,5])\n",
    "print(a-b)"
   ]
  },
  {
   "cell_type": "code",
   "execution_count": 8,
   "metadata": {},
   "outputs": [
    {
     "name": "stdout",
     "output_type": "stream",
     "text": [
      "[ 2  6 12 20]\n"
     ]
    }
   ],
   "source": [
    "import numpy as np\n",
    "a=np.array([1,2,3,4])\n",
    "b=np.array([2,3,4,5])\n",
    "print(a*b)"
   ]
  },
  {
   "cell_type": "code",
   "execution_count": 11,
   "metadata": {},
   "outputs": [
    {
     "name": "stdout",
     "output_type": "stream",
     "text": [
      "[[ 8 10 14 14]\n",
      " [ 3  7  7 11]]\n"
     ]
    }
   ],
   "source": [
    "# Two D Array\n",
    "import numpy as np\n",
    "u=np.array([[6,7,8,9],[1,3,4,5]])\n",
    "v=np.array([[2,3,6,5],[2,4,3,6]])\n",
    "print(u+v)\n"
   ]
  },
  {
   "cell_type": "code",
   "execution_count": 12,
   "metadata": {},
   "outputs": [
    {
     "name": "stdout",
     "output_type": "stream",
     "text": [
      "[[ 4  4  2  4]\n",
      " [-1 -1  1 -1]]\n"
     ]
    }
   ],
   "source": [
    "import numpy as np\n",
    "u=np.array([[6,7,8,9],[1,3,4,5]])\n",
    "v=np.array([[2,3,6,5],[2,4,3,6]])\n",
    "print(u-v)\n"
   ]
  },
  {
   "cell_type": "code",
   "execution_count": 13,
   "metadata": {},
   "outputs": [
    {
     "name": "stdout",
     "output_type": "stream",
     "text": [
      "1\n"
     ]
    }
   ],
   "source": [
    "# Arithmethic Function-min(),max(),argmin(),sqrt(),sin(),cos(),cumsum().\n",
    "import numpy as np\n",
    "var2=np.array([1,2,3,4,5,4,4])\n",
    "print(np.min(var2))\n",
    "\n"
   ]
  },
  {
   "cell_type": "code",
   "execution_count": null,
   "metadata": {},
   "outputs": [
    {
     "name": "stdout",
     "output_type": "stream",
     "text": [
      "5\n"
     ]
    }
   ],
   "source": [
    "import numpy as np\n",
    "var2=np.array([1,2,3,4,5,4,4])\n",
    "print(np.min(var2))\n",
    "\n"
   ]
  },
  {
   "cell_type": "code",
   "execution_count": 19,
   "metadata": {},
   "outputs": [
    {
     "name": "stdout",
     "output_type": "stream",
     "text": [
      "0\n",
      "4\n",
      "[1.         1.41421356 1.73205081 2.         2.23606798 2.\n",
      " 2.        ]\n"
     ]
    }
   ],
   "source": [
    "import numpy as np\n",
    "var2=np.array([1,2,3,4,5,4,4])\n",
    "print(np.argmin(var2))\n",
    "print(np.argmax(var2))\n",
    "print(np.sqrt(var2))\n",
    "\n"
   ]
  },
  {
   "cell_type": "code",
   "execution_count": 21,
   "metadata": {},
   "outputs": [
    {
     "name": "stdout",
     "output_type": "stream",
     "text": [
      "[1 2 7 5]\n"
     ]
    }
   ],
   "source": [
    "# Two D Array\n",
    "import numpy as np\n",
    "y=np.array([[1,2,10,5],[4,5,7,8]])\n",
    "print(np.min(y,axis=0))\n"
   ]
  },
  {
   "cell_type": "code",
   "execution_count": 23,
   "metadata": {},
   "outputs": [
    {
     "name": "stdout",
     "output_type": "stream",
     "text": [
      "[0.84147098 0.90929743 0.14112001]\n",
      "[ 0.54030231 -0.41614684 -0.9899925 ]\n"
     ]
    }
   ],
   "source": [
    "import numpy as np\n",
    "a=np.array([1,2,3])\n",
    "print(np.sin(a))\n",
    "print(np.cos(a))"
   ]
  },
  {
   "cell_type": "markdown",
   "metadata": {},
   "source": [
    "Indexing in numpy"
   ]
  },
  {
   "cell_type": "code",
   "execution_count": 25,
   "metadata": {},
   "outputs": [
    {
     "name": "stdout",
     "output_type": "stream",
     "text": [
      "5\n",
      "4\n",
      "5\n"
     ]
    }
   ],
   "source": [
    "# 1D array\n",
    "import numpy as np\n",
    "var5=np.array([1,2,4,5,6])\n",
    "print(var5[3])\n",
    "print(var5[2])\n",
    "print(var5[-2])"
   ]
  },
  {
   "cell_type": "code",
   "execution_count": 27,
   "metadata": {},
   "outputs": [
    {
     "name": "stdout",
     "output_type": "stream",
     "text": [
      "5\n",
      "12\n",
      "7\n"
     ]
    }
   ],
   "source": [
    "# 2D array\n",
    "import numpy as np\n",
    "var=np.array([[6,7,5,10],[3,7,11,12]])\n",
    "print(var[0,2])\n",
    "print(var[1,3])\n",
    "print(var[1,-3])"
   ]
  },
  {
   "cell_type": "code",
   "execution_count": 28,
   "metadata": {},
   "outputs": [
    {
     "name": "stdout",
     "output_type": "stream",
     "text": [
      "22\n"
     ]
    }
   ],
   "source": [
    "# 3D array\n",
    "import numpy as array\n",
    "var3=np.array([[[1,3,6,8],[11,22,33,44]]])\n",
    "print(var3[0,1,1])"
   ]
  },
  {
   "cell_type": "markdown",
   "metadata": {},
   "source": [
    "Slicing in to numpy array."
   ]
  },
  {
   "cell_type": "code",
   "execution_count": 4,
   "metadata": {},
   "outputs": [
    {
     "name": "stdout",
     "output_type": "stream",
     "text": [
      "[1 2 4 5 6]\n",
      "[1 4 6 8]\n",
      "[4 5 6 7 8]\n",
      "[1 2 4 5 6 7]\n"
     ]
    }
   ],
   "source": [
    "# 1D array\n",
    "import numpy as np\n",
    "y=np.array([1,2,4,5,6,7,8])\n",
    "print(y[0:5])\n",
    "print(y[::2])\n",
    "print(y[2:])\n",
    "print(y[:6])"
   ]
  },
  {
   "cell_type": "code",
   "execution_count": 7,
   "metadata": {},
   "outputs": [
    {
     "name": "stdout",
     "output_type": "stream",
     "text": [
      "[1 2 3 4 5]\n",
      "[8 4 3 2]\n",
      "[2 3 4 8 7]\n"
     ]
    }
   ],
   "source": [
    "# 2D array\n",
    "import numpy as np\n",
    "x=np.array([[1,2,3,4,5],[7,8,4,3,2]])\n",
    "print(x[0,:5])\n",
    "print(x[1,1:])\n",
    "print(x[1,::-1])"
   ]
  },
  {
   "cell_type": "markdown",
   "metadata": {},
   "source": [
    "Iterating into numpy Array.\n"
   ]
  },
  {
   "cell_type": "code",
   "execution_count": 8,
   "metadata": {},
   "outputs": [
    {
     "name": "stdout",
     "output_type": "stream",
     "text": [
      "1\n",
      "2\n",
      "3\n",
      "4\n",
      "5\n",
      "6\n"
     ]
    }
   ],
   "source": [
    "# 1D array\n",
    "import numpy as np\n",
    "var=np.array([1,2,3,4,5,6])\n",
    "for i in var:\n",
    "    print(i)"
   ]
  },
  {
   "cell_type": "code",
   "execution_count": 9,
   "metadata": {},
   "outputs": [
    {
     "name": "stdout",
     "output_type": "stream",
     "text": [
      "2\n",
      "3\n",
      "4\n",
      "5\n",
      "7\n",
      "6\n",
      "5\n",
      "4\n"
     ]
    }
   ],
   "source": [
    "# 2D array\n",
    "import numpy as np\n",
    "var1=np.array([[2,3,4,5],[7,6,5,4]])\n",
    "for i in var1:\n",
    "    for j in i:\n",
    "        print(j)"
   ]
  },
  {
   "cell_type": "code",
   "execution_count": 11,
   "metadata": {},
   "outputs": [
    {
     "name": "stdout",
     "output_type": "stream",
     "text": [
      "3\n",
      "\n",
      "1\n",
      "2\n",
      "3\n",
      "4\n",
      "5\n",
      "6\n",
      "7\n",
      "8\n"
     ]
    }
   ],
   "source": [
    "# 3D array\n",
    "import numpy as np\n",
    "var2=np.array([[[1,2,3,4],[5,6,7,8]]])\n",
    "print(var2.ndim)\n",
    "print()\n",
    "for i in var2:\n",
    "    for j in i:\n",
    "        for k in j:\n",
    "            print(k)"
   ]
  },
  {
   "cell_type": "code",
   "execution_count": 12,
   "metadata": {},
   "outputs": [
    {
     "name": "stdout",
     "output_type": "stream",
     "text": [
      "1\n",
      "2\n",
      "3\n",
      "4\n",
      "5\n",
      "6\n",
      "7\n",
      "8\n",
      "9\n",
      "0\n"
     ]
    }
   ],
   "source": [
    "# nditer() using iterating\n",
    "import numpy as np\n",
    "var3=np.array([[[1,2,3,4,5],[6,7,8,9,0]]])\n",
    "for i in np.nditer(var3):\n",
    "    print(i)\n"
   ]
  },
  {
   "cell_type": "code",
   "execution_count": null,
   "metadata": {},
   "outputs": [
    {
     "name": "stdout",
     "output_type": "stream",
     "text": [
      "(0, 0, 0) 1\n",
      "(0, 0, 1) 2\n",
      "(0, 0, 2) 3\n",
      "(0, 0, 3) 4\n",
      "(0, 0, 4) 5\n",
      "(0, 1, 0) 6\n",
      "(0, 1, 1) 7\n",
      "(0, 1, 2) 8\n",
      "(0, 1, 3) 9\n",
      "(0, 1, 4) 0\n"
     ]
    }
   ],
   "source": [
    "import numpy as np # index value find out the data\n",
    "var4=np.array([[[1,2,3,4,5],[6,7,8,9,0]]])\n",
    "for i,d in np.ndenumerate(var4):\n",
    "    print(i,d)\n"
   ]
  },
  {
   "cell_type": "markdown",
   "metadata": {},
   "source": [
    "Join and Split Function.\n"
   ]
  },
  {
   "cell_type": "code",
   "execution_count": null,
   "metadata": {},
   "outputs": [
    {
     "name": "stdout",
     "output_type": "stream",
     "text": [
      "[1 2 3 4 5 6 7 8]\n"
     ]
    }
   ],
   "source": [
    "# join()- joins means putting contents of two or more arrays in a single array.\n",
    "# 1D array\n",
    "import numpy as np\n",
    "var9=np.array([1,2,3,4])\n",
    "var10=np.array([5,6,7,8])\n",
    "ar_new=np.concatenate((var9,var10))\n",
    "print(ar_new)"
   ]
  },
  {
   "cell_type": "code",
   "execution_count": 17,
   "metadata": {},
   "outputs": [
    {
     "name": "stdout",
     "output_type": "stream",
     "text": [
      "[[1 2 3 4 1 2 3 4]\n",
      " [5 6 7 8 4 5 6 3]]\n",
      "\n",
      "[[1 2 3 4]\n",
      " [5 6 7 8]\n",
      " [1 2 3 4]\n",
      " [4 5 6 3]]\n"
     ]
    }
   ],
   "source": [
    "# 2D array\n",
    "import numpy as np\n",
    "var11=np.array([[1,2,3,4],[5,6,7,8]])\n",
    "var13=np.array([[1,2,3,4],[4,5,6,3]])\n",
    "new_ar=np.concatenate((var11,var13),axis=1)\n",
    "print(new_ar)\n",
    "print()\n",
    "new_arr=np.concatenate((var11,var13),axis=0)\n",
    "print(new_arr)\n"
   ]
  },
  {
   "cell_type": "code",
   "execution_count": 21,
   "metadata": {},
   "outputs": [
    {
     "name": "stdout",
     "output_type": "stream",
     "text": [
      "[array([1, 2]), array([3, 4])]\n",
      "[1 2]\n",
      "[3 4]\n"
     ]
    }
   ],
   "source": [
    "# Split()- splitting breaks one array into multiple.\n",
    "import numpy as np\n",
    "v=np.array([1,2,3,4])\n",
    "x=np.array_split(v,2)\n",
    "print(x)\n",
    "print(x[0])\n",
    "print(x[1])"
   ]
  },
  {
   "cell_type": "markdown",
   "metadata": {},
   "source": [
    "Numpy Array some Function.\n",
    "(Search,Sort,search sorted,Filter)"
   ]
  },
  {
   "cell_type": "code",
   "execution_count": 22,
   "metadata": {},
   "outputs": [
    {
     "name": "stdout",
     "output_type": "stream",
     "text": [
      "(array([ 8, 10, 11]),)\n"
     ]
    }
   ],
   "source": [
    "# Search\n",
    "import numpy as np\n",
    "varu=np.array([1,4,7,8,9,10,11,12,13,14,13,13,16])\n",
    "x=np.where(varu==13)\n",
    "print(x)"
   ]
  },
  {
   "cell_type": "code",
   "execution_count": 23,
   "metadata": {},
   "outputs": [
    {
     "name": "stdout",
     "output_type": "stream",
     "text": [
      "[ 2  5  7  8  9 10 11 20]\n"
     ]
    }
   ],
   "source": [
    "#sort\n",
    "import numpy as np\n",
    "var_6=np.array([8,7,9,2,5,10,20,11])\n",
    "print(np.sort(var_6))"
   ]
  },
  {
   "cell_type": "code",
   "execution_count": 24,
   "metadata": {},
   "outputs": [
    {
     "name": "stdout",
     "output_type": "stream",
     "text": [
      "4\n"
     ]
    }
   ],
   "source": [
    "# srarch sorted\n",
    "import numpy as np\n",
    "b=np.array([1,2,3,4,7,8,9])\n",
    "x=np.searchsorted(b,5)\n",
    "print(x)"
   ]
  },
  {
   "cell_type": "code",
   "execution_count": null,
   "metadata": {},
   "outputs": [
    {
     "name": "stdout",
     "output_type": "stream",
     "text": [
      "[1 2 3 4 5 6]\n",
      "[1 4 2 5 3 6]\n",
      "[1 2 3 4 5 6]\n"
     ]
    }
   ],
   "source": [
    "# some importent Function\n",
    "# Flatten- 2D Array convert into 1D Array.\n",
    "import numpy as np\n",
    "y=np.array([[1,2,3],[4,5,6]])\n",
    "print(y.flatten())\n",
    "print(y.flatten(order=\"F\"))\n",
    "print(y.flatten(order=\"c\"))"
   ]
  },
  {
   "cell_type": "code",
   "execution_count": 8,
   "metadata": {},
   "outputs": [
    {
     "name": "stdout",
     "output_type": "stream",
     "text": [
      "[[1 2 3]\n",
      " [4 5 6]]\n"
     ]
    }
   ],
   "source": [
    "# Resize -array shape is change\n",
    "import numpy as np\n",
    "g=np.array([1,2,3,4,5,6])\n",
    "f=np.resize(g,(2,3))\n",
    "print(f)"
   ]
  },
  {
   "cell_type": "code",
   "execution_count": 9,
   "metadata": {},
   "outputs": [
    {
     "name": "stdout",
     "output_type": "stream",
     "text": [
      "[1 2 3 4 5 6]\n"
     ]
    }
   ],
   "source": [
    "# unique()\n",
    "uni_f=np.array([1,2,3,4,3,2,4,5,6,3])\n",
    "y=np.unique(uni_f)\n",
    "print(y) "
   ]
  },
  {
   "cell_type": "code",
   "execution_count": null,
   "metadata": {},
   "outputs": [
    {
     "name": "stdout",
     "output_type": "stream",
     "text": [
      "[5 3 2 1 4]\n"
     ]
    }
   ],
   "source": [
    "# shuffle()-change into position\n",
    "arr_s=np.array([1,2,3,4,5])\n",
    "np.random.shuffle(arr_s)\n",
    "print(arr_s)"
   ]
  },
  {
   "cell_type": "code",
   "execution_count": null,
   "metadata": {},
   "outputs": [
    {
     "name": "stdout",
     "output_type": "stream",
     "text": [
      "[ 1  2 40  4  3  5]\n"
     ]
    }
   ],
   "source": [
    "# insert()\n",
    "# 1D array\n",
    "var1=np.array([1,2,4,3,5])\n",
    "v=np.insert(var1,2,40)\n",
    "print(v)\n"
   ]
  },
  {
   "cell_type": "code",
   "execution_count": 19,
   "metadata": {},
   "outputs": [
    {
     "name": "stdout",
     "output_type": "stream",
     "text": [
      "[ 1  2 40  4  3 40  5]\n"
     ]
    }
   ],
   "source": [
    "var2=np.array([1,2,4,3,5])\n",
    "v1=np.insert(var2,(2,4),40)\n",
    "print(v1)\n"
   ]
  },
  {
   "cell_type": "code",
   "execution_count": 20,
   "metadata": {},
   "outputs": [
    {
     "name": "stdout",
     "output_type": "stream",
     "text": [
      "[[ 1  2  3]\n",
      " [ 1  2  3]\n",
      " [22 33 44]]\n"
     ]
    }
   ],
   "source": [
    "#2D array\n",
    "var3=np.array([[1,2,3],[1,2,3]])\n",
    "v22=np.insert(var3,2,[22,33,44],axis=0)\n",
    "print(v22)"
   ]
  },
  {
   "cell_type": "code",
   "execution_count": 21,
   "metadata": {},
   "outputs": [
    {
     "name": "stdout",
     "output_type": "stream",
     "text": [
      "[22 33  5 66 77 12]\n"
     ]
    }
   ],
   "source": [
    "# Append()\n",
    "var4=np.array([22,33,5,66,77])\n",
    "v5=np.append(var4,12)\n",
    "print(v5)"
   ]
  },
  {
   "cell_type": "code",
   "execution_count": 22,
   "metadata": {},
   "outputs": [
    {
     "name": "stdout",
     "output_type": "stream",
     "text": [
      "[1 2 5 4 6 8 9]\n"
     ]
    }
   ],
   "source": [
    "# Delete()\n",
    "var1=np.array([1,2,5,4,6,7,8,9])\n",
    "c=np.delete(var1,5) \n",
    "print(c)"
   ]
  },
  {
   "cell_type": "code",
   "execution_count": 1,
   "metadata": {},
   "outputs": [
    {
     "name": "stdout",
     "output_type": "stream",
     "text": [
      "90\n"
     ]
    }
   ],
   "source": [
    "import numpy as np\n",
    "a=np.array([2,3,4,5,6])\n",
    "b=np.array([2,3,4,5,6])\n",
    "print(a.dot(b))"
   ]
  },
  {
   "cell_type": "code",
   "execution_count": 3,
   "metadata": {},
   "outputs": [
    {
     "name": "stdout",
     "output_type": "stream",
     "text": [
      "576\n",
      "[[1 2 3 4]\n",
      " [3 4 2 1]]\n"
     ]
    }
   ],
   "source": [
    "# prod() -it gives multiplication of all the elements of the array\n",
    "a=np.array([[1,2,3,4],[3,4,2,1]])\n",
    "print(a.prod())\n",
    "print(a)\n"
   ]
  },
  {
   "cell_type": "code",
   "execution_count": 4,
   "metadata": {},
   "outputs": [
    {
     "name": "stdout",
     "output_type": "stream",
     "text": [
      "2\n"
     ]
    }
   ],
   "source": [
    "x=np.array([2,3,2,5,6,7,81])\n",
    "print(x.min())"
   ]
  },
  {
   "cell_type": "code",
   "execution_count": 5,
   "metadata": {},
   "outputs": [
    {
     "data": {
      "text/plain": [
       "np.float64(15.142857142857142)"
      ]
     },
     "execution_count": 5,
     "metadata": {},
     "output_type": "execute_result"
    }
   ],
   "source": [
    "x.mean(axis=0) # it gives the mean of each columns"
   ]
  },
  {
   "cell_type": "code",
   "execution_count": null,
   "metadata": {},
   "outputs": [],
   "source": []
  }
 ],
 "metadata": {
  "kernelspec": {
   "display_name": "base",
   "language": "python",
   "name": "python3"
  },
  "language_info": {
   "codemirror_mode": {
    "name": "ipython",
    "version": 3
   },
   "file_extension": ".py",
   "mimetype": "text/x-python",
   "name": "python",
   "nbconvert_exporter": "python",
   "pygments_lexer": "ipython3",
   "version": "3.12.3"
  }
 },
 "nbformat": 4,
 "nbformat_minor": 2
}
