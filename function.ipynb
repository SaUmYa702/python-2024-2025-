{
 "cells": [
  {
   "cell_type": "markdown",
   "metadata": {},
   "source": [
    "Types\n",
    "-parameterized\n",
    "-non-parameterized\n",
    "-retun\n",
    "-non-retun\n",
    "-default function"
   ]
  },
  {
   "cell_type": "code",
   "execution_count": 2,
   "metadata": {},
   "outputs": [
    {
     "name": "stdout",
     "output_type": "stream",
     "text": [
      "hello from my func\n",
      "this is a function\n",
      "goodbye\n"
     ]
    }
   ],
   "source": [
    "def my_func(): # non-parameterized function\n",
    "    print(\"hello from my func\")\n",
    "    print(\"this is a function\")\n",
    "    print(\"goodbye\")\n",
    "my_func()    "
   ]
  },
  {
   "cell_type": "code",
   "execution_count": 3,
   "metadata": {},
   "outputs": [
    {
     "name": "stdout",
     "output_type": "stream",
     "text": [
      "hello from my func\n",
      "this is a function\n",
      "goodbye\n"
     ]
    }
   ],
   "source": [
    "my_func()"
   ]
  },
  {
   "cell_type": "code",
   "execution_count": 5,
   "metadata": {},
   "outputs": [
    {
     "name": "stdout",
     "output_type": "stream",
     "text": [
      "hello john\n",
      "goodbye john\n"
     ]
    }
   ],
   "source": [
    "# parameteraized function.\n",
    "def name(name):\n",
    "    print(\"hello\",name)\n",
    "    print(\"goodbye\",name)\n",
    "name(\"john\")    "
   ]
  },
  {
   "cell_type": "code",
   "execution_count": 7,
   "metadata": {},
   "outputs": [
    {
     "name": "stdout",
     "output_type": "stream",
     "text": [
      "6.333333333333333\n"
     ]
    }
   ],
   "source": [
    "def avg_num(a,b,c): # avg num find out\n",
    "    totel=a+b+c\n",
    "    print(totel/3)\n",
    "avg_num(10,4,5)    "
   ]
  },
  {
   "cell_type": "code",
   "execution_count": 15,
   "metadata": {},
   "outputs": [
    {
     "name": "stdout",
     "output_type": "stream",
     "text": [
      "25\n"
     ]
    }
   ],
   "source": [
    "# return function\n",
    "def func(x):\n",
    "    return 5*x\n",
    "a=func(5)\n",
    "print(a)"
   ]
  },
  {
   "cell_type": "code",
   "execution_count": 16,
   "metadata": {},
   "outputs": [
    {
     "name": "stdout",
     "output_type": "stream",
     "text": [
      "None\n"
     ]
    }
   ],
   "source": [
    "# return function\n",
    "def func(x):\n",
    "     5*x\n",
    "a=func(5)\n",
    "print(a)"
   ]
  },
  {
   "cell_type": "code",
   "execution_count": 19,
   "metadata": {},
   "outputs": [
    {
     "name": "stdout",
     "output_type": "stream",
     "text": [
      "I am from USA\n",
      "I am from UK\n",
      "I am from india\n",
      "I am from canada\n"
     ]
    }
   ],
   "source": [
    "# default parameteraized function.\n",
    "def my_country(country=\"india\"):\n",
    "    print(\"I am from\",country)\n",
    "my_country(\"USA\")\n",
    "my_country(\"UK\")\n",
    "my_country() \n",
    "my_country(\"canada\")   \n",
    " "
   ]
  },
  {
   "cell_type": "code",
   "execution_count": 21,
   "metadata": {},
   "outputs": [
    {
     "name": "stdout",
     "output_type": "stream",
     "text": [
      "apple\n",
      "banana\n",
      "orange\n"
     ]
    }
   ],
   "source": [
    "def fruits(fruit):\n",
    "    for x in fruit:\n",
    "        print(x)\n",
    "fruits([\"apple\",\"banana\",\"orange\"])        \n",
    "    "
   ]
  },
  {
   "cell_type": "code",
   "execution_count": 22,
   "metadata": {},
   "outputs": [
    {
     "name": "stdout",
     "output_type": "stream",
     "text": [
      "odd\n"
     ]
    }
   ],
   "source": [
    "# function even odd num\n",
    "def even_odd(x):\n",
    "    if x%2==0:\n",
    "        print(\"Even\")\n",
    "    else:\n",
    "        print(\"odd\")\n",
    "even_odd(5)            "
   ]
  },
  {
   "cell_type": "code",
   "execution_count": 26,
   "metadata": {},
   "outputs": [],
   "source": [
    "# lambda function for even odd number\n",
    "even_odd=lambda x: \"Even\" if x%2==0 else \"odd\"\n"
   ]
  },
  {
   "cell_type": "code",
   "execution_count": 27,
   "metadata": {},
   "outputs": [
    {
     "name": "stdout",
     "output_type": "stream",
     "text": [
      "True\n"
     ]
    }
   ],
   "source": [
    "even=lambda a: a%2 ==0\n",
    "print(even(2))"
   ]
  },
  {
   "cell_type": "markdown",
   "metadata": {},
   "source": [
    "- Check a number is prime or not\n",
    "-convert temperature celcius to fahrenheit\n",
    "-find maximum of three number\n",
    "-Reverse of a string\n",
    "-Count vowel of a string\n",
    "-Calculate BMI(body mass index)"
   ]
  },
  {
   "cell_type": "code",
   "execution_count": 3,
   "metadata": {},
   "outputs": [
    {
     "name": "stdout",
     "output_type": "stream",
     "text": [
      "68.0\n"
     ]
    }
   ],
   "source": [
    "def tem_(): #temperature celcius to fahrenheit \n",
    "    n=int(input(\"enter any num:\"))\n",
    "    a=9/5*n+32\n",
    "    print(a)\n",
    "tem_()    "
   ]
  },
  {
   "cell_type": "code",
   "execution_count": 4,
   "metadata": {},
   "outputs": [
    {
     "name": "stdout",
     "output_type": "stream",
     "text": [
      "25.0\n"
     ]
    }
   ],
   "source": [
    "# temperature fahrenheit to celcius\n",
    "def cel_num():\n",
    "    a=int(input(\"enter any num:\"))\n",
    "    b=(a-32)*5/9\n",
    "    print(b)\n",
    "cel_num()    "
   ]
  },
  {
   "cell_type": "code",
   "execution_count": 8,
   "metadata": {},
   "outputs": [
    {
     "name": "stdout",
     "output_type": "stream",
     "text": [
      "ihskas\n"
     ]
    }
   ],
   "source": [
    "def rev_str(): # reverse of a string.\n",
    "    a=\"sakshi\"\n",
    "    print(a[::-1])\n",
    "rev_str()    "
   ]
  },
  {
   "cell_type": "code",
   "execution_count": 16,
   "metadata": {},
   "outputs": [
    {
     "name": "stdout",
     "output_type": "stream",
     "text": [
      "Totel vowel in monika is: 1\n",
      "Totel vowel in monika is: 2\n",
      "Totel vowel in monika is: 3\n"
     ]
    }
   ],
   "source": [
    "# count vowel of a string.\n",
    "def count_vol():\n",
    "    s=input(\"enter any str:\")\n",
    "    v=0\n",
    "    for i in s:\n",
    "        if i in \"aeiouAEIOU\":\n",
    "            v +=1\n",
    "            print(\"Totel vowel in\",s,\"is:\",v)\n",
    "count_vol()            "
   ]
  },
  {
   "cell_type": "code",
   "execution_count": 22,
   "metadata": {},
   "outputs": [
    {
     "name": "stdout",
     "output_type": "stream",
     "text": [
      "27.343749999999996\n"
     ]
    }
   ],
   "source": [
    "# calculate the BMI(body mass index).\n",
    "def body_mass():\n",
    "    w=float(input(\"enter your weight in kg:\"))\n",
    "    h=float(input(\"enter your hight in metres:\"))\n",
    "    ibm=w/h**2\n",
    "    print(ibm)\n",
    "body_mass()    "
   ]
  }
 ],
 "metadata": {
  "kernelspec": {
   "display_name": "base",
   "language": "python",
   "name": "python3"
  },
  "language_info": {
   "codemirror_mode": {
    "name": "ipython",
    "version": 3
   },
   "file_extension": ".py",
   "mimetype": "text/x-python",
   "name": "python",
   "nbconvert_exporter": "python",
   "pygments_lexer": "ipython3",
   "version": "3.12.3"
  }
 },
 "nbformat": 4,
 "nbformat_minor": 2
}
