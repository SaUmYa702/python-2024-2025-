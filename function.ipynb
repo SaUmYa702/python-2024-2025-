{
 "cells": [
  {
   "cell_type": "markdown",
   "metadata": {},
   "source": [
    "Types\n",
    "-parameterized\n",
    "-non-parameterized\n",
    "-retun\n",
    "-non-retun\n",
    "-default function"
   ]
  },
  {
   "cell_type": "code",
   "execution_count": 2,
   "metadata": {},
   "outputs": [
    {
     "name": "stdout",
     "output_type": "stream",
     "text": [
      "hello from my func\n",
      "this is a function\n",
      "goodbye\n"
     ]
    }
   ],
   "source": [
    "def my_func(): # non-parameterized function\n",
    "    print(\"hello from my func\")\n",
    "    print(\"this is a function\")\n",
    "    print(\"goodbye\")\n",
    "my_func()    "
   ]
  },
  {
   "cell_type": "code",
   "execution_count": 3,
   "metadata": {},
   "outputs": [
    {
     "name": "stdout",
     "output_type": "stream",
     "text": [
      "hello from my func\n",
      "this is a function\n",
      "goodbye\n"
     ]
    }
   ],
   "source": [
    "my_func()"
   ]
  },
  {
   "cell_type": "code",
   "execution_count": 5,
   "metadata": {},
   "outputs": [
    {
     "name": "stdout",
     "output_type": "stream",
     "text": [
      "hello john\n",
      "goodbye john\n"
     ]
    }
   ],
   "source": [
    "# parameteraized function.\n",
    "def name(name):\n",
    "    print(\"hello\",name)\n",
    "    print(\"goodbye\",name)\n",
    "name(\"john\")    "
   ]
  },
  {
   "cell_type": "code",
   "execution_count": 7,
   "metadata": {},
   "outputs": [
    {
     "name": "stdout",
     "output_type": "stream",
     "text": [
      "6.333333333333333\n"
     ]
    }
   ],
   "source": [
    "def avg_num(a,b,c): # avg num find out\n",
    "    totel=a+b+c\n",
    "    print(totel/3)\n",
    "avg_num(10,4,5)    "
   ]
  },
  {
   "cell_type": "code",
   "execution_count": 14,
   "metadata": {},
   "outputs": [
    {
     "name": "stdout",
     "output_type": "stream",
     "text": [
      "60\n"
     ]
    }
   ],
   "source": [
    "def add_num(a,b):\n",
    "    a=int(input(\"enter a num:\"))\n",
    "    b=int(input(\"enter b num:\"))\n",
    "    c=a+b\n",
    "    print(c)\n",
    "add_num(10,4)    "
   ]
  },
  {
   "cell_type": "code",
   "execution_count": 15,
   "metadata": {},
   "outputs": [
    {
     "name": "stdout",
     "output_type": "stream",
     "text": [
      "25\n"
     ]
    }
   ],
   "source": [
    "# return function\n",
    "def func(x):\n",
    "    return 5*x\n",
    "a=func(5)\n",
    "print(a)"
   ]
  },
  {
   "cell_type": "code",
   "execution_count": 16,
   "metadata": {},
   "outputs": [
    {
     "name": "stdout",
     "output_type": "stream",
     "text": [
      "None\n"
     ]
    }
   ],
   "source": [
    "# return function\n",
    "def func(x):\n",
    "     5*x\n",
    "a=func(5)\n",
    "print(a)"
   ]
  },
  {
   "cell_type": "code",
   "execution_count": null,
   "metadata": {},
   "outputs": [],
   "source": []
  }
 ],
 "metadata": {
  "kernelspec": {
   "display_name": "base",
   "language": "python",
   "name": "python3"
  },
  "language_info": {
   "codemirror_mode": {
    "name": "ipython",
    "version": 3
   },
   "file_extension": ".py",
   "mimetype": "text/x-python",
   "name": "python",
   "nbconvert_exporter": "python",
   "pygments_lexer": "ipython3",
   "version": "3.12.3"
  }
 },
 "nbformat": 4,
 "nbformat_minor": 2
}
