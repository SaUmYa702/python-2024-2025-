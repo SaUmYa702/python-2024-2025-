{
 "cells": [
  {
   "cell_type": "code",
   "execution_count": 16,
   "metadata": {},
   "outputs": [
    {
     "name": "stdout",
     "output_type": "stream",
     "text": [
      "saumya\n"
     ]
    }
   ],
   "source": [
    "name=input(\"enter a name\")\n",
    "print(name)"
   ]
  },
  {
   "cell_type": "code",
   "execution_count": 19,
   "metadata": {},
   "outputs": [
    {
     "name": "stdout",
     "output_type": "stream",
     "text": [
      "saumy\n"
     ]
    }
   ],
   "source": [
    "print(name[:5])"
   ]
  },
  {
   "cell_type": "code",
   "execution_count": 4,
   "metadata": {},
   "outputs": [
    {
     "name": "stdout",
     "output_type": "stream",
     "text": [
      "saumya\n",
      "<class 'str'>\n",
      "it's easy\n",
      " \"quotes\" \n"
     ]
    }
   ],
   "source": [
    "# String in python.\n",
    "name=\"saumya\"\n",
    "print(name)\n",
    "print(type(name))\n",
    "print(\"it's easy\")\n",
    "print(''' \"quotes\" ''')\n"
   ]
  },
  {
   "cell_type": "code",
   "execution_count": 5,
   "metadata": {},
   "outputs": [
    {
     "name": "stdout",
     "output_type": "stream",
     "text": [
      "my name is madav and I'm 67\n"
     ]
    }
   ],
   "source": [
    "# formatted string.\n",
    "#1. old style formatting - %operator.\n",
    "name=\"madav\"\n",
    "age=67\n",
    "print(\"my name is %s and I'm %d\" %(name,age))"
   ]
  },
  {
   "cell_type": "code",
   "execution_count": 8,
   "metadata": {},
   "outputs": [
    {
     "name": "stdout",
     "output_type": "stream",
     "text": [
      "my name is saumya and I'm 54\n"
     ]
    }
   ],
   "source": [
    "# str.format()  method.\n",
    "name=\"saumya\"\n",
    "age=54\n",
    "print(\"my name is {} and I'm {}\".format(name,age))"
   ]
  }
 ],
 "metadata": {
  "kernelspec": {
   "display_name": "base",
   "language": "python",
   "name": "python3"
  },
  "language_info": {
   "codemirror_mode": {
    "name": "ipython",
    "version": 3
   },
   "file_extension": ".py",
   "mimetype": "text/x-python",
   "name": "python",
   "nbconvert_exporter": "python",
   "pygments_lexer": "ipython3",
   "version": "3.12.8"
  }
 },
 "nbformat": 4,
 "nbformat_minor": 2
}
