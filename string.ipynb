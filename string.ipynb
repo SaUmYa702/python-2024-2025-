{
 "cells": [
  {
   "cell_type": "code",
   "execution_count": 16,
   "metadata": {},
   "outputs": [
    {
     "name": "stdout",
     "output_type": "stream",
     "text": [
      "saumya\n"
     ]
    }
   ],
   "source": [
    "name=input(\"enter a name\")\n",
    "print(name)"
   ]
  },
  {
   "cell_type": "code",
   "execution_count": 19,
   "metadata": {},
   "outputs": [
    {
     "name": "stdout",
     "output_type": "stream",
     "text": [
      "saumy\n"
     ]
    }
   ],
   "source": [
    "print(name[:5])"
   ]
  },
  {
   "cell_type": "code",
   "execution_count": 4,
   "metadata": {},
   "outputs": [
    {
     "name": "stdout",
     "output_type": "stream",
     "text": [
      "saumya\n",
      "<class 'str'>\n",
      "it's easy\n",
      " \"quotes\" \n"
     ]
    }
   ],
   "source": [
    "# String in python.\n",
    "name=\"saumya\"\n",
    "print(name)\n",
    "print(type(name))\n",
    "print(\"it's easy\")\n",
    "print(''' \"quotes\" ''')\n"
   ]
  },
  {
   "cell_type": "code",
   "execution_count": 5,
   "metadata": {},
   "outputs": [
    {
     "name": "stdout",
     "output_type": "stream",
     "text": [
      "my name is madav and I'm 67\n"
     ]
    }
   ],
   "source": [
    "# formatted string.\n",
    "#1. old style formatting - %operator.\n",
    "name=\"madav\"\n",
    "age=67\n",
    "print(\"my name is %s and I'm %d\" %(name,age))"
   ]
  },
  {
   "cell_type": "code",
   "execution_count": 9,
   "metadata": {},
   "outputs": [
    {
     "name": "stdout",
     "output_type": "stream",
     "text": [
      "my name is saumya and I'm 54\n",
      "my name iskomal and I'm 56\n"
     ]
    }
   ],
   "source": [
    "# str.format()  method.\n",
    "name=\"saumya\"\n",
    "age=54\n",
    "print(\"my name is {} and I'm {}\".format(name,age))\n",
    "print(\"my name is{name} and I'm {age}\".format(name=\"komal\",age=56))"
   ]
  },
  {
   "cell_type": "code",
   "execution_count": 13,
   "metadata": {},
   "outputs": [
    {
     "name": "stdout",
     "output_type": "stream",
     "text": [
      "my name is madhav and I'm 56\n",
      "my name is madhav and i will be 61 years old\n"
     ]
    }
   ],
   "source": [
    "# F- string .\n",
    "name=\"madhav\"\n",
    "age=56\n",
    "print(f\"my name is {name} and I'm {age}\")\n",
    "print(f\"my name is {name} and i will be {age+5} years old\")"
   ]
  },
  {
   "cell_type": "code",
   "execution_count": 4,
   "metadata": {},
   "outputs": [
    {
     "name": "stdout",
     "output_type": "stream",
     "text": [
      "\"saumya singh\"\n",
      "\"saumya\"\n",
      "saumya\n",
      "singh\n",
      "saumya\tsingh\n"
     ]
    }
   ],
   "source": [
    "# escape characters.\n",
    "print(\"\\\"saumya singh\\\"\")\n",
    "print('''\"saumya\"''')\n",
    "print(\"saumya\\nsingh\") #\\n for new line\n",
    "print(\"saumya\\tsingh\") # \\t for space"
   ]
  },
  {
   "cell_type": "code",
   "execution_count": 6,
   "metadata": {},
   "outputs": [
    {
     "name": "stdout",
     "output_type": "stream",
     "text": [
      "helloworld\n"
     ]
    }
   ],
   "source": [
    "# string opretors in python\n",
    "a=\"hello\"\n",
    "b=\"world\"\n",
    "print(a+b) # concatenation\n"
   ]
  },
  {
   "cell_type": "code",
   "execution_count": 9,
   "metadata": {},
   "outputs": [
    {
     "name": "stdout",
     "output_type": "stream",
     "text": [
      "hellohello\n"
     ]
    }
   ],
   "source": [
    "a=\"hello\"\n",
    "b=\"world\"\n",
    "print(a*2) # multiple copies\n"
   ]
  },
  {
   "cell_type": "code",
   "execution_count": 10,
   "metadata": {},
   "outputs": [
    {
     "name": "stdout",
     "output_type": "stream",
     "text": [
      "yess\n"
     ]
    }
   ],
   "source": [
    "a=\"saumya\"\n",
    "if \"m\" in a:\n",
    "    print(\"yess\")\n",
    "else:\n",
    "    print(\"no\")    "
   ]
  },
  {
   "cell_type": "code",
   "execution_count": 12,
   "metadata": {},
   "outputs": [
    {
     "name": "stdout",
     "output_type": "stream",
     "text": [
      "no\n"
     ]
    }
   ],
   "source": [
    "a=\"saumya\"\n",
    "if \"m\" not in a:\n",
    "    print(\"yess\")\n",
    "else:\n",
    "    print(\"no\")    "
   ]
  },
  {
   "cell_type": "code",
   "execution_count": 4,
   "metadata": {},
   "outputs": [
    {
     "name": "stdout",
     "output_type": "stream",
     "text": [
      "m\n",
      "a\n",
      "h\n",
      "d\n"
     ]
    }
   ],
   "source": [
    "# string indexing\n",
    "name=\"madhav\"\n",
    "print(name[0])\n",
    "print(name[4])\n",
    "print(name[3])\n",
    "print(name[2])"
   ]
  },
  {
   "cell_type": "code",
   "execution_count": 10,
   "metadata": {},
   "outputs": [
    {
     "name": "stdout",
     "output_type": "stream",
     "text": [
      "hello\n",
      "hello w\n",
      "low\n",
      "o world\n"
     ]
    }
   ],
   "source": [
    "# slicing\n",
    "name=\"hello world\"\n",
    "print(name[0:5])\n",
    "print(name[:7])\n",
    "print(name[2:8:2])\n",
    "print(name[4:])"
   ]
  },
  {
   "cell_type": "code",
   "execution_count": 15,
   "metadata": {},
   "outputs": [
    {
     "name": "stdout",
     "output_type": "stream",
     "text": [
      "kehsihba\n",
      "shek\n",
      "khi\n",
      "abhishek\n"
     ]
    }
   ],
   "source": [
    "# negative slicing\n",
    "name=\"abhishek\"\n",
    "print(name[::-1]) #reverse string\n",
    "print(name[-4:])\n",
    "print(name[-1:-7:-2])\n",
    "print(name[::]) # all string "
   ]
  },
  {
   "cell_type": "code",
   "execution_count": 31,
   "metadata": {},
   "outputs": [
    {
     "name": "stdout",
     "output_type": "stream",
     "text": [
      "12\n",
      "HELLO SAUMYA\n",
      "saumya\n",
      "2\n",
      "2\n",
      "['hello', 'saumya']\n",
      "hello mushkan\n",
      "Hello Saumya\n",
      "saumya  singh\n",
      "saumya-is-a-good-girle\n"
     ]
    }
   ],
   "source": [
    "# string method\n",
    "# len()\n",
    "word=\"hello saumya\"\n",
    "print(len(word))\n",
    "# upper()\n",
    "print(word.upper())\n",
    "# lower()\n",
    "name=\"SAUMYA\"\n",
    "print(name.lower())\n",
    "# count()\n",
    "print(name.count('A'))\n",
    "#find()\n",
    "print(name.find('U'))\n",
    "#split\n",
    "print(word.split())\n",
    "#replace\n",
    "print(word.replace(\"saumya\",\"mushkan\"))\n",
    "# title\n",
    "print(word.title())\n",
    "# strip\n",
    "name2=\" saumya  singh\"\n",
    "print(name2.strip())\n",
    "# join method\n",
    "xx=\"saumya\", \"is\" ,\"a\", \"good\", \"girle\"\n",
    "print(\"-\".join(xx))"
   ]
  },
  {
   "cell_type": "code",
   "execution_count": 2,
   "metadata": {},
   "outputs": [
    {
     "name": "stdout",
     "output_type": "stream",
     "text": [
      "my name is saumya singh\n"
     ]
    }
   ],
   "source": [
    "# String method\n",
    "#String concatenation\n",
    "a=\"my name is \"\n",
    "b=\"saumya singh\"\n",
    "print(a+b)"
   ]
  },
  {
   "cell_type": "code",
   "execution_count": 6,
   "metadata": {},
   "outputs": [
    {
     "name": "stdout",
     "output_type": "stream",
     "text": [
      "suman suman suman \n"
     ]
    }
   ],
   "source": [
    "# string Duplication\n",
    "name=\"suman \"\n",
    "print(name * 3)"
   ]
  },
  {
   "cell_type": "code",
   "execution_count": 7,
   "metadata": {},
   "outputs": [
    {
     "name": "stdout",
     "output_type": "stream",
     "text": [
      "BEAUTIFUL\n"
     ]
    }
   ],
   "source": [
    "word=\"beautiful\"\n",
    "print(word.upper())"
   ]
  },
  {
   "cell_type": "code",
   "execution_count": 8,
   "metadata": {},
   "outputs": [
    {
     "name": "stdout",
     "output_type": "stream",
     "text": [
      "beautiful\n"
     ]
    }
   ],
   "source": [
    "word=\"BEAUTIFUL\"\n",
    "print(word.lower())"
   ]
  },
  {
   "cell_type": "code",
   "execution_count": 10,
   "metadata": {},
   "outputs": [
    {
     "name": "stdout",
     "output_type": "stream",
     "text": [
      "Monika\n"
     ]
    }
   ],
   "source": [
    "word=\"monika\"\n",
    "print(word.capitalize())\n"
   ]
  },
  {
   "cell_type": "code",
   "execution_count": 11,
   "metadata": {},
   "outputs": [
    {
     "name": "stdout",
     "output_type": "stream",
     "text": [
      "['you', 'are', 'fool']\n"
     ]
    }
   ],
   "source": [
    "# split\n",
    "x=\"you are fool\"\n",
    "print(x.split())"
   ]
  },
  {
   "cell_type": "code",
   "execution_count": 13,
   "metadata": {},
   "outputs": [
    {
     "name": "stdout",
     "output_type": "stream",
     "text": [
      "Twinkle twinkle little star\n",
      "how i wonder what are You\n",
      "up above the world so much\n"
     ]
    }
   ],
   "source": [
    "poem='''Twinkle twinkle little star\n",
    "how i wonder what are You\n",
    "up above the world so much'''\n",
    "print(poem)"
   ]
  },
  {
   "cell_type": "code",
   "execution_count": 14,
   "metadata": {},
   "outputs": [
    {
     "data": {
      "text/plain": [
       "['Twinkle twinkle little star',\n",
       " 'how i wonder what are You',\n",
       " 'up above the world so much']"
      ]
     },
     "execution_count": 14,
     "metadata": {},
     "output_type": "execute_result"
    }
   ],
   "source": [
    "poem.splitlines()"
   ]
  },
  {
   "cell_type": "code",
   "execution_count": 15,
   "metadata": {},
   "outputs": [
    {
     "name": "stdout",
     "output_type": "stream",
     "text": [
      "34\n"
     ]
    }
   ],
   "source": [
    "print(poem.find(\"wonder\"))"
   ]
  },
  {
   "cell_type": "code",
   "execution_count": 16,
   "metadata": {},
   "outputs": [
    {
     "name": "stdout",
     "output_type": "stream",
     "text": [
      " johny johny yess papa\n",
      "eating sugar no papa\n",
      "telling lies no papa\n",
      "open the mouth ha ha ha\n"
     ]
    }
   ],
   "source": [
    "p=\"\"\" johny johny yess papa\n",
    "eating sugar no papa\n",
    "telling lies no papa\n",
    "open the mouth ha ha ha\"\"\"\n",
    "print(p)"
   ]
  }
 ],
 "metadata": {
  "kernelspec": {
   "display_name": "base",
   "language": "python",
   "name": "python3"
  },
  "language_info": {
   "codemirror_mode": {
    "name": "ipython",
    "version": 3
   },
   "file_extension": ".py",
   "mimetype": "text/x-python",
   "name": "python",
   "nbconvert_exporter": "python",
   "pygments_lexer": "ipython3",
   "version": "3.12.8"
  }
 },
 "nbformat": 4,
 "nbformat_minor": 2
}
