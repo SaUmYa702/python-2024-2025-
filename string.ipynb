{
 "cells": [
  {
   "cell_type": "code",
   "execution_count": 1,
   "metadata": {},
   "outputs": [
    {
     "name": "stdout",
     "output_type": "stream",
     "text": [
      "('saumya', 'sanna', 'komal', 'abhishek', 'mayank', 'sakshi', 'shreya')\n"
     ]
    }
   ],
   "source": [
    "str=\"saumya\",\"sanna\",\"komal\",\"abhishek\",\"mayank\",\"sakshi\",\"shreya\"\n",
    "print(str)"
   ]
  },
  {
   "cell_type": "code",
   "execution_count": 10,
   "metadata": {},
   "outputs": [
    {
     "name": "stdout",
     "output_type": "stream",
     "text": [
      "abhishek\n",
      "mayank\n",
      "sakshi\n"
     ]
    }
   ],
   "source": [
    "# indexing in string.\n",
    "str=\"saumya\",\"sanna\",\"komal\",\"abhishek\",\"mayank\",\"sakshi\",\"shreya\"\n",
    "print(str[3])\n",
    "print(str[-3])\n",
    "print(str[5])"
   ]
  },
  {
   "cell_type": "code",
   "execution_count": 15,
   "metadata": {},
   "outputs": [
    {
     "name": "stdout",
     "output_type": "stream",
     "text": [
      "('sanna', 'komal', 'abhishek', 'mayank', 'sakshi')\n",
      "('saumya', 'sanna', 'komal', 'abhishek', 'mayank')\n",
      "('sakshi', 'shreya')\n",
      "('saumya', 'sanna', 'komal', 'abhishek', 'mayank', 'sakshi', 'shreya')\n"
     ]
    }
   ],
   "source": [
    "# slicing in string.\n",
    "str=\"saumya\",\"sanna\",\"komal\",\"abhishek\",\"mayank\",\"sakshi\",\"shreya\"\n",
    "print(str[1:6])\n",
    "print(str[:5])\n",
    "print(str[5:])\n",
    "print(str[:])"
   ]
  }
 ],
 "metadata": {
  "kernelspec": {
   "display_name": "base",
   "language": "python",
   "name": "python3"
  },
  "language_info": {
   "codemirror_mode": {
    "name": "ipython",
    "version": 3
   },
   "file_extension": ".py",
   "mimetype": "text/x-python",
   "name": "python",
   "nbconvert_exporter": "python",
   "pygments_lexer": "ipython3",
   "version": "3.12.8"
  }
 },
 "nbformat": 4,
 "nbformat_minor": 2
}
