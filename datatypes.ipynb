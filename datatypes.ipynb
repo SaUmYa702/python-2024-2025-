{
 "cells": [
  {
   "cell_type": "markdown",
   "metadata": {},
   "source": [
    "Special Datatype in Python."
   ]
  },
  {
   "cell_type": "code",
   "execution_count": 1,
   "metadata": {},
   "outputs": [
    {
     "name": "stdout",
     "output_type": "stream",
     "text": [
      "['saumya', 23, 7.7, 'true', 'saumya@123', 23]\n"
     ]
    }
   ],
   "source": [
    "#items of list\n",
    "x=[\"saumya\",23,7.7,\"true\",\"saumya@123\",23]\n",
    "print(x)"
   ]
  },
  {
   "cell_type": "code",
   "execution_count": 3,
   "metadata": {},
   "outputs": [
    {
     "name": "stdout",
     "output_type": "stream",
     "text": [
      "('number', 78.0, 'true', 45, 'apple')\n"
     ]
    }
   ],
   "source": [
    "#items of tuples.\n",
    "y=(\"number\",78.0,\"true\",45,\"apple\")\n",
    "print(y)\n",
    "   "
   ]
  },
  {
   "cell_type": "code",
   "execution_count": 5,
   "metadata": {},
   "outputs": [
    {
     "name": "stdout",
     "output_type": "stream",
     "text": [
      "{6, 23, 8, 'manshi', 45, 'monika'}\n"
     ]
    }
   ],
   "source": [
    "#items of set.\n",
    "s={\"monika\",23,45,6,23,8,8,\"manshi\",\"monika\"}\n",
    "print(s)"
   ]
  },
  {
   "cell_type": "code",
   "execution_count": 12,
   "metadata": {},
   "outputs": [
    {
     "name": "stdout",
     "output_type": "stream",
     "text": [
      "{'name': 'saumya', 'age': '23', 'gender': 'femail', 'address': 'jaunpur'}\n",
      "<class 'dict'>\n"
     ]
    }
   ],
   "source": [
    "#items of dictionary.\n",
    "student={\n",
    "    \"name\":\"saumya\",\n",
    "    \"age\":\"23\",\n",
    "    \"gender\":'femail',\n",
    "    \"address\":\"jaunpur\"\n",
    "}\n",
    "print(student)\n",
    "print(type(student))"
   ]
  },
  {
   "cell_type": "markdown",
   "metadata": {},
   "source": [
    "There are two ways to take input.\n",
    "-Direct assigning value in a variable.\n",
    "-Taking input from the user."
   ]
  },
  {
   "cell_type": "code",
   "execution_count": 10,
   "metadata": {},
   "outputs": [
    {
     "name": "stdout",
     "output_type": "stream",
     "text": [
      "60\n",
      "<class 'str'>\n"
     ]
    }
   ],
   "source": [
    "a=input(\"enter a num:\")\n",
    "print(a)\n",
    "print(type(a))"
   ]
  },
  {
   "cell_type": "code",
   "execution_count": 11,
   "metadata": {},
   "outputs": [
    {
     "name": "stdout",
     "output_type": "stream",
     "text": [
      "30\n",
      "<class 'int'>\n"
     ]
    }
   ],
   "source": [
    "a=int(input(\"enter a num:\"))\n",
    "print(a)\n",
    "print(type(a))"
   ]
  },
  {
   "cell_type": "code",
   "execution_count": 16,
   "metadata": {},
   "outputs": [
    {
     "name": "stdout",
     "output_type": "stream",
     "text": [
      "66.0\n",
      "<class 'float'>\n"
     ]
    }
   ],
   "source": [
    "x=float(input(\"enter any num:\"))\n",
    "print(x)\n",
    "print(type(x))"
   ]
  },
  {
   "cell_type": "code",
   "execution_count": 21,
   "metadata": {},
   "outputs": [
    {
     "name": "stdout",
     "output_type": "stream",
     "text": [
      "mushkan is a good girle.\n",
      "and saumya is a good girle.\n",
      "but i am a strong person.\n"
     ]
    }
   ],
   "source": [
    "name =\"\"\"mushkan is a good girle.\n",
    "and saumya is a good girle.\n",
    "but i am a strong person.\"\"\"\n",
    "print(name)"
   ]
  }
 ],
 "metadata": {
  "kernelspec": {
   "display_name": "base",
   "language": "python",
   "name": "python3"
  },
  "language_info": {
   "codemirror_mode": {
    "name": "ipython",
    "version": 3
   },
   "file_extension": ".py",
   "mimetype": "text/x-python",
   "name": "python",
   "nbconvert_exporter": "python",
   "pygments_lexer": "ipython3",
   "version": "3.12.8"
  }
 },
 "nbformat": 4,
 "nbformat_minor": 2
}
