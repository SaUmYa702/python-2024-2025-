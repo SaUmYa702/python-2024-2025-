{
 "cells": [
  {
   "cell_type": "markdown",
   "metadata": {},
   "source": [
    "# Write a python program that prints the following text exactly as it appears.\n",
    "python is fun.\n",
    "\"Quotes\" and 'single Quotes' can be tricky."
   ]
  },
  {
   "cell_type": "code",
   "execution_count": 2,
   "metadata": {},
   "outputs": [
    {
     "name": "stdout",
     "output_type": "stream",
     "text": [
      "python is fun.\n",
      "\"Quotes\" and 'single Quotes' can be tricky.\n"
     ]
    }
   ],
   "source": [
    "a='''python is fun.\\n\"Quotes\" and 'single Quotes' can be tricky.'''\n",
    "print(a)"
   ]
  },
  {
   "cell_type": "markdown",
   "metadata": {},
   "source": [
    "Que2. For a business create 3 variables to store name,age and city.Then print a sentence that uses these variables."
   ]
  },
  {
   "cell_type": "code",
   "execution_count": 4,
   "metadata": {},
   "outputs": [
    {
     "name": "stdout",
     "output_type": "stream",
     "text": [
      "my name is mokika from jaypur i am 23.\n"
     ]
    }
   ],
   "source": [
    "name=\"mokika\"\n",
    "age=23\n",
    "city=\"jaypur\"\n",
    "print(f\"my name is {name} from {city} i am {age}.\")"
   ]
  },
  {
   "cell_type": "markdown",
   "metadata": {},
   "source": [
    "Ques3.Write a python program to input student name marks of 3 subjects. print name& percentage."
   ]
  },
  {
   "cell_type": "code",
   "execution_count": 6,
   "metadata": {},
   "outputs": [
    {
     "name": "stdout",
     "output_type": "stream",
     "text": [
      "The student mokika is 62%.\n"
     ]
    }
   ],
   "source": [
    "stu_name=input(\"enter any name:\")\n",
    "hindi_mark=int(input(\"enter any num1:\"))\n",
    "math_mark=int(input(\"enter any num2:\"))\n",
    "english_mark=int(input(\"enter any num3\"))\n",
    "percentage=((hindi_mark+math_mark+english_mark)/300)*100\n",
    "print(f\"The student {name} is {int(percentage)}%.\")"
   ]
  },
  {
   "cell_type": "markdown",
   "metadata": {},
   "source": [
    "Ques4. WAP that collects multiple type of data (e.g, name,age,hight,and student status) from user input,store them in a dictionary, and then prints out of the collected data? "
   ]
  },
  {
   "cell_type": "code",
   "execution_count": 7,
   "metadata": {},
   "outputs": [
    {
     "name": "stdout",
     "output_type": "stream",
     "text": [
      "{'name': 'komal', 'age': 23, 'hight': 5.5, 'stu_status': 'i am student'}\n"
     ]
    }
   ],
   "source": [
    "student={\n",
    "    \"name\":input(\"enter any name:\"),\n",
    "    \"age\":int(input(\"enter any age:\")),\n",
    "    \"hight\":float(input(\"enter any hight:\")),\n",
    "    \"stu_status\":input(\"enter any num:\")\n",
    "}\n",
    "print(student)"
   ]
  },
  {
   "cell_type": "markdown",
   "metadata": {},
   "source": [
    "Ques5.Leap year: write a simple program to determine if a given year is a leap year using user input.\n",
    "Note:\n",
    "-Leap year occurs once every four years.\n",
    "-A year is a leap year if it is divisible by 4,but not if it is divisible by 100 unlass it is also divisible by 400.\n"
   ]
  },
  {
   "cell_type": "code",
   "execution_count": 2,
   "metadata": {},
   "outputs": [
    {
     "name": "stdout",
     "output_type": "stream",
     "text": [
      "not leap year\n"
     ]
    }
   ],
   "source": [
    "year=int(input(\"enter any num:\"))\n",
    "if (year%4==0 and year%100!=0) or (year%400==0):\n",
    "    print(\"leap year\")\n",
    "else:\n",
    "    print(\"not leap year\")    "
   ]
  },
  {
   "cell_type": "markdown",
   "metadata": {},
   "source": [
    "Ques6. Login Authentication using conditional statement.Assume you have a predefined username and password.\n",
    "WAP that prompts the user to enter a username and password and checks whether they match.Provide appropriate message for the following cases:\n",
    "Both username and password are correct.\n",
    "Username is correct but password is incorrect.\n",
    "Username is incorrect."
   ]
  },
  {
   "cell_type": "code",
   "execution_count": 6,
   "metadata": {},
   "outputs": [
    {
     "name": "stdout",
     "output_type": "stream",
     "text": [
      "login was successful\n"
     ]
    }
   ],
   "source": [
    "predefind_username=\"saumya\"\n",
    "predefind_password=\"saumya123\"\n",
    "\n",
    "username=input(\"enter any name:\")\n",
    "password=input(\"enter any num:\")\n",
    "if predefind_username==username:\n",
    "    if predefind_password==password:\n",
    "        print(\"login was successful\")\n",
    "    else:\n",
    "        print(\"incorrect password\")\n",
    "else:\n",
    "    print(\"invalide\")            \n",
    " "
   ]
  },
  {
   "cell_type": "markdown",
   "metadata": {},
   "source": [
    "Ques7.Admission Eligibility: A university has the following eligibility criteria for admission:\n",
    "-Marks in Mathematics >=65\n",
    "-Marks in physics >=55\n",
    "-Marks in chemistry >=50\n",
    "- Totel marks in all three subjects >=180 or totel marks in \n",
    "mathmetics and physics >=140\n",
    "wap that takes marks in three subjects as input and prints whether the student is eligible for admission. "
   ]
  },
  {
   "cell_type": "code",
   "execution_count": 7,
   "metadata": {},
   "outputs": [
    {
     "name": "stdout",
     "output_type": "stream",
     "text": [
      "you are eligible for admission\n"
     ]
    }
   ],
   "source": [
    "math=int(input(\"enter a num:\"))\n",
    "physics=int(input(\"enter b num:\"))\n",
    "chemistry=int(input(\"enter c num:\"))\n",
    "if (math>=55 and physics>=55 and chemistry>=50 and (math+physics+chemistry)>=180) or (math+physics)>=140:\n",
    "    print(\"you are eligible for admission\")\n",
    "else:\n",
    "    print(\"not eligible\")    "
   ]
  }
 ],
 "metadata": {
  "kernelspec": {
   "display_name": "base",
   "language": "python",
   "name": "python3"
  },
  "language_info": {
   "codemirror_mode": {
    "name": "ipython",
    "version": 3
   },
   "file_extension": ".py",
   "mimetype": "text/x-python",
   "name": "python",
   "nbconvert_exporter": "python",
   "pygments_lexer": "ipython3",
   "version": "3.12.3"
  }
 },
 "nbformat": 4,
 "nbformat_minor": 2
}
