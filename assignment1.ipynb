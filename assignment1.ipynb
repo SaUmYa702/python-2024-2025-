{
 "cells": [
  {
   "cell_type": "markdown",
   "metadata": {},
   "source": [
    "# Write a python program that prints the following text exactly as it appears.\n",
    "python is fun.\n",
    "\"Quotes\" and 'single Quotes' can be tricky."
   ]
  },
  {
   "cell_type": "code",
   "execution_count": 2,
   "metadata": {},
   "outputs": [
    {
     "name": "stdout",
     "output_type": "stream",
     "text": [
      "python is fun.\n",
      "\"Quotes\" and 'single Quotes' can be tricky.\n"
     ]
    }
   ],
   "source": [
    "a='''python is fun.\\n\"Quotes\" and 'single Quotes' can be tricky.'''\n",
    "print(a)"
   ]
  },
  {
   "cell_type": "markdown",
   "metadata": {},
   "source": [
    "Que2. For a business create 3 variables to store name,age and city.Then print a sentence that uses these variables."
   ]
  },
  {
   "cell_type": "code",
   "execution_count": 4,
   "metadata": {},
   "outputs": [
    {
     "name": "stdout",
     "output_type": "stream",
     "text": [
      "my name is mokika from jaypur i am 23.\n"
     ]
    }
   ],
   "source": [
    "name=\"mokika\"\n",
    "age=23\n",
    "city=\"jaypur\"\n",
    "print(f\"my name is {name} from {city} i am {age}.\")"
   ]
  }
 ],
 "metadata": {
  "kernelspec": {
   "display_name": "base",
   "language": "python",
   "name": "python3"
  },
  "language_info": {
   "codemirror_mode": {
    "name": "ipython",
    "version": 3
   },
   "file_extension": ".py",
   "mimetype": "text/x-python",
   "name": "python",
   "nbconvert_exporter": "python",
   "pygments_lexer": "ipython3",
   "version": "3.12.3"
  }
 },
 "nbformat": 4,
 "nbformat_minor": 2
}
