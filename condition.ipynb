{
 "cells": [
  {
   "cell_type": "markdown",
   "metadata": {},
   "source": [
    "- condition stesement\n",
    "1.if(multi)\n",
    "2.ifelse(single)\n",
    "3.elif(multi)\n",
    "4.nested if(multi)"
   ]
  },
  {
   "cell_type": "code",
   "execution_count": 3,
   "metadata": {},
   "outputs": [
    {
     "name": "stdout",
     "output_type": "stream",
     "text": [
      "Fail\n"
     ]
    }
   ],
   "source": [
    "marks=int(input(\"enter any num:\"))\n",
    "if marks>=90:\n",
    "    print(\"+A\")\n",
    "if marks>=80:\n",
    "    print(\"A\")  \n",
    "if marks>=60:\n",
    "    print(\"B\")   \n",
    "if marks<60:\n",
    "    print(\"Fail\")       \n",
    "\n"
   ]
  },
  {
   "cell_type": "code",
   "execution_count": 5,
   "metadata": {},
   "outputs": [
    {
     "name": "stdout",
     "output_type": "stream",
     "text": [
      "B\n",
      "invalid input\n"
     ]
    }
   ],
   "source": [
    "marks=int(input(\"enter any num:\"))\n",
    "if marks>=90:\n",
    "    print(\"+A\")\n",
    "if marks>=80:\n",
    "    print(\"A\")  \n",
    "if marks>=60:\n",
    "    print(\"B\")   \n",
    "if marks<60:\n",
    "    print(\"Fail\") \n",
    "else:\n",
    "    print(\"invalid input\")          \n"
   ]
  },
  {
   "cell_type": "code",
   "execution_count": 6,
   "metadata": {},
   "outputs": [
    {
     "name": "stdout",
     "output_type": "stream",
     "text": [
      "you are eligible to vote\n"
     ]
    }
   ],
   "source": [
    "age=int(input(\"enter a age\"))\n",
    "if age >=18:\n",
    "    print(\"you are eligible to vote\")\n",
    "else:\n",
    "    print(\"you are not eliguble to vote\")    "
   ]
  },
  {
   "cell_type": "code",
   "execution_count": 8,
   "metadata": {},
   "outputs": [
    {
     "name": "stdout",
     "output_type": "stream",
     "text": [
      "consonent\n"
     ]
    }
   ],
   "source": [
    "#enter a character by user and cheak if it is a vowel or consonent.\n",
    "char=input(\"enter any character\")\n",
    "if char in \"aeiou\":\n",
    "    print(\"vowel\")\n",
    "else:\n",
    "    print(\"consonent\")    \n"
   ]
  },
  {
   "cell_type": "code",
   "execution_count": 10,
   "metadata": {},
   "outputs": [
    {
     "name": "stdout",
     "output_type": "stream",
     "text": [
      "not positive number\n"
     ]
    }
   ],
   "source": [
    "# TO check whether a number is positive or not.\n",
    "num=int(input(\"enter any num:\"))\n",
    "if num>=0:\n",
    "    print(\"positive number\")\n",
    "else:\n",
    "    print(\"not positive number\")    "
   ]
  },
  {
   "cell_type": "code",
   "execution_count": 11,
   "metadata": {},
   "outputs": [
    {
     "name": "stdout",
     "output_type": "stream",
     "text": [
      "odd num\n"
     ]
    }
   ],
   "source": [
    "# To check whether a number is even or odd.\n",
    "num=int(input(\"enter any num:\"))\n",
    "if num%2==0:\n",
    "    print(\"even num\")\n",
    "else:\n",
    "    print(\"odd num\")    "
   ]
  },
  {
   "cell_type": "code",
   "execution_count": 12,
   "metadata": {},
   "outputs": [
    {
     "name": "stdout",
     "output_type": "stream",
     "text": [
      "side or not equal\n"
     ]
    }
   ],
   "source": [
    "# To check whether two sides of a rectangle is equal or not.\n",
    "x=int(input(\"enter a num:\"))\n",
    "y=int(input(\"enter b num:\"))\n",
    "if x==y:\n",
    "    print(\"sides or equal\")\n",
    "else:\n",
    "    print(\"side or not equal\")    "
   ]
  },
  {
   "cell_type": "code",
   "execution_count": 13,
   "metadata": {},
   "outputs": [
    {
     "name": "stdout",
     "output_type": "stream",
     "text": [
      "not leap year\n"
     ]
    }
   ],
   "source": [
    "# TO check whether a leap year or not.\n",
    "year=int(input(\"enter a num:\")) \n",
    "if year%4==0:\n",
    "    print(\"leap year\")  \n",
    "else:\n",
    "    print(\"not leap year\")    "
   ]
  },
  {
   "cell_type": "code",
   "execution_count": 14,
   "metadata": {},
   "outputs": [
    {
     "name": "stdout",
     "output_type": "stream",
     "text": [
      "57500.0\n"
     ]
    }
   ],
   "source": [
    "# calculate the net salary of an employee where basic salary(bs) is 50,000, TDA is 10% of bs and HRA is 5% of bs.print the message accordingly.\n",
    "BS=50000\n",
    "TDA=BS*0.10\n",
    "HRA=BS*0.05\n",
    "Net_salary=BS+TDA+HRA\n",
    "print(Net_salary)"
   ]
  },
  {
   "cell_type": "code",
   "execution_count": 15,
   "metadata": {},
   "outputs": [
    {
     "name": "stdout",
     "output_type": "stream",
     "text": [
      "area of circle is: 50.24\n"
     ]
    }
   ],
   "source": [
    "# calculate an area of a circle.\n",
    "r=int(input(\"enter a num:\"))\n",
    "area=3.14*r*r\n",
    "print(\"area of circle is:\",area)\n"
   ]
  },
  {
   "cell_type": "code",
   "execution_count": 2,
   "metadata": {},
   "outputs": [
    {
     "name": "stdout",
     "output_type": "stream",
     "text": [
      "Yes\n"
     ]
    }
   ],
   "source": [
    "# Ram and Shayam are good friend.They found a goldcoins in a forest.print \"yes\" If then can equale the goldcoins otherwise print\"No\".\n",
    "n=int(input(\"enter the coins:\"))\n",
    "if n%2==0:\n",
    "    print(\"Yes\")\n",
    "else:\n",
    "    print(\"No\")    "
   ]
  }
 ],
 "metadata": {
  "kernelspec": {
   "display_name": "base",
   "language": "python",
   "name": "python3"
  },
  "language_info": {
   "codemirror_mode": {
    "name": "ipython",
    "version": 3
   },
   "file_extension": ".py",
   "mimetype": "text/x-python",
   "name": "python",
   "nbconvert_exporter": "python",
   "pygments_lexer": "ipython3",
   "version": "3.12.8"
  }
 },
 "nbformat": 4,
 "nbformat_minor": 2
}
