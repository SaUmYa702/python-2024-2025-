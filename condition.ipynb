{
 "cells": [
  {
   "cell_type": "markdown",
   "metadata": {},
   "source": [
    "- condition stesement\n",
    "1.if(multi)\n",
    "2.ifelse(single)\n",
    "3.elif(multi)\n",
    "4.nested if(multi)"
   ]
  },
  {
   "cell_type": "code",
   "execution_count": 2,
   "metadata": {},
   "outputs": [
    {
     "name": "stdout",
     "output_type": "stream",
     "text": [
      "Fail\n"
     ]
    }
   ],
   "source": [
    "marks=int(input(\"enter any num:\"))\n",
    "if marks>=90:\n",
    "    print(\"+A\")\n",
    "if marks>=80:\n",
    "    print(\"A\")  \n",
    "if marks>=60:\n",
    "    print(\"B\")   \n",
    "if marks<60:\n",
    "    print(\"Fail\")       \n",
    "\n"
   ]
  },
  {
   "cell_type": "code",
   "execution_count": 5,
   "metadata": {},
   "outputs": [
    {
     "name": "stdout",
     "output_type": "stream",
     "text": [
      "B\n",
      "invalid input\n"
     ]
    }
   ],
   "source": [
    "marks=int(input(\"enter any num:\"))\n",
    "if marks>=90:\n",
    "    print(\"+A\")\n",
    "if marks>=80:\n",
    "    print(\"A\")  \n",
    "if marks>=60:\n",
    "    print(\"B\")   \n",
    "if marks<60:\n",
    "    print(\"Fail\") \n",
    "else:\n",
    "    print(\"invalid input\")          \n"
   ]
  },
  {
   "cell_type": "code",
   "execution_count": 6,
   "metadata": {},
   "outputs": [
    {
     "name": "stdout",
     "output_type": "stream",
     "text": [
      "you are eligible to vote\n"
     ]
    }
   ],
   "source": [
    "age=int(input(\"enter a age\"))\n",
    "if age >=18:\n",
    "    print(\"you are eligible to vote\")\n",
    "else:\n",
    "    print(\"you are not eliguble to vote\")    "
   ]
  },
  {
   "cell_type": "code",
   "execution_count": 8,
   "metadata": {},
   "outputs": [
    {
     "name": "stdout",
     "output_type": "stream",
     "text": [
      "consonent\n"
     ]
    }
   ],
   "source": [
    "#enter a character by user and cheak if it is a vowel or consonent.\n",
    "char=input(\"enter any character\")\n",
    "if char in \"aeiou\":\n",
    "    print(\"vowel\")\n",
    "else:\n",
    "    print(\"consonent\")    \n"
   ]
  },
  {
   "cell_type": "code",
   "execution_count": 10,
   "metadata": {},
   "outputs": [
    {
     "name": "stdout",
     "output_type": "stream",
     "text": [
      "not positive number\n"
     ]
    }
   ],
   "source": [
    "# TO check whether a number is positive or not.\n",
    "num=int(input(\"enter any num:\"))\n",
    "if num>=0:\n",
    "    print(\"positive number\")\n",
    "else:\n",
    "    print(\"not positive number\")    "
   ]
  },
  {
   "cell_type": "code",
   "execution_count": 11,
   "metadata": {},
   "outputs": [
    {
     "name": "stdout",
     "output_type": "stream",
     "text": [
      "odd num\n"
     ]
    }
   ],
   "source": [
    "# To check whether a number is even or odd.\n",
    "num=int(input(\"enter any num:\"))\n",
    "if num%2==0:\n",
    "    print(\"even num\")\n",
    "else:\n",
    "    print(\"odd num\")    "
   ]
  },
  {
   "cell_type": "code",
   "execution_count": 12,
   "metadata": {},
   "outputs": [
    {
     "name": "stdout",
     "output_type": "stream",
     "text": [
      "side or not equal\n"
     ]
    }
   ],
   "source": [
    "# To check whether two sides of a rectangle is equal or not.\n",
    "x=int(input(\"enter a num:\"))\n",
    "y=int(input(\"enter b num:\"))\n",
    "if x==y:\n",
    "    print(\"sides or equal\")\n",
    "else:\n",
    "    print(\"side or not equal\")    "
   ]
  },
  {
   "cell_type": "code",
   "execution_count": 13,
   "metadata": {},
   "outputs": [
    {
     "name": "stdout",
     "output_type": "stream",
     "text": [
      "not leap year\n"
     ]
    }
   ],
   "source": [
    "# TO check whether a leap year or not.\n",
    "year=int(input(\"enter a num:\")) \n",
    "if year%4==0:\n",
    "    print(\"leap year\")  \n",
    "else:\n",
    "    print(\"not leap year\")    "
   ]
  },
  {
   "cell_type": "code",
   "execution_count": 14,
   "metadata": {},
   "outputs": [
    {
     "name": "stdout",
     "output_type": "stream",
     "text": [
      "57500.0\n"
     ]
    }
   ],
   "source": [
    "# calculate the net salary of an employee where basic salary(bs) is 50,000, TDA is 10% of bs and HRA is 5% of bs.print the message accordingly.\n",
    "BS=50000\n",
    "TDA=BS*0.10\n",
    "HRA=BS*0.05\n",
    "Net_salary=BS+TDA+HRA\n",
    "print(Net_salary)"
   ]
  },
  {
   "cell_type": "code",
   "execution_count": 15,
   "metadata": {},
   "outputs": [
    {
     "name": "stdout",
     "output_type": "stream",
     "text": [
      "area of circle is: 50.24\n"
     ]
    }
   ],
   "source": [
    "# calculate an area of a circle.\n",
    "r=int(input(\"enter a num:\"))\n",
    "area=3.14*r*r\n",
    "print(\"area of circle is:\",area)\n"
   ]
  },
  {
   "cell_type": "code",
   "execution_count": 2,
   "metadata": {},
   "outputs": [
    {
     "name": "stdout",
     "output_type": "stream",
     "text": [
      "Yes\n"
     ]
    }
   ],
   "source": [
    "# Ram and Shayam are good friend.They found a goldcoins in a forest.print \"yes\" If then can equale the goldcoins otherwise print\"No\".\n",
    "n=int(input(\"enter the coins:\"))\n",
    "if n%2==0:\n",
    "    print(\"Yes\")\n",
    "else:\n",
    "    print(\"No\")    "
   ]
  },
  {
   "cell_type": "code",
   "execution_count": 5,
   "metadata": {},
   "outputs": [
    {
     "name": "stdout",
     "output_type": "stream",
     "text": [
      "age of a person is 66 years \n"
     ]
    }
   ],
   "source": [
    "# Print the age of a person.\n",
    "age=int(input(\"enter the num:\"))\n",
    "if (age>0 and age<100):\n",
    "    print(f\"age of a person is {age} years \")\n",
    "else:\n",
    "    print(\"invalide age\")    \n"
   ]
  },
  {
   "cell_type": "markdown",
   "metadata": {},
   "source": [
    "You will given three integers as input.The inputs may or may not be different from each other.you have to output 1 if are three inputs are different from each other.and 0 if any input is repeted more then once.input three integers are three line.output 1 if the three inputs are different from each other,0 if some input is repeated more then once."
   ]
  },
  {
   "cell_type": "code",
   "execution_count": 7,
   "metadata": {},
   "outputs": [
    {
     "name": "stdout",
     "output_type": "stream",
     "text": [
      "0\n"
     ]
    }
   ],
   "source": [
    "x=int(input())\n",
    "y=int(input())\n",
    "z=int(input())\n",
    "if (x!=y and x!=z and y!=z):\n",
    "    print(1)\n",
    "else:\n",
    "    print(0)    \n"
   ]
  },
  {
   "cell_type": "markdown",
   "metadata": {},
   "source": [
    "You are given two integers, say M and N .you must check whether M is an exact multiple of N. without useing loops.you have to output 0 if M is not a multiple of N. you have to output M/N if M is a multiple of N. input two integers,say M and N.output you have to output 0 .if M is not multiple of N.you have to output M/N if M is a multiple of N."
   ]
  },
  {
   "cell_type": "code",
   "execution_count": 4,
   "metadata": {},
   "outputs": [
    {
     "name": "stdout",
     "output_type": "stream",
     "text": [
      "0\n"
     ]
    }
   ],
   "source": [
    "M=int(input())\n",
    "N=int(input())\n",
    "if M%N==0:\n",
    "    print(int(M/N))\n",
    "else:\n",
    "    print(0)    "
   ]
  },
  {
   "cell_type": "code",
   "execution_count": 1,
   "metadata": {},
   "outputs": [
    {
     "name": "stdout",
     "output_type": "stream",
     "text": [
      "b is largest num\n"
     ]
    }
   ],
   "source": [
    "# Find out largest in 3 number.\n",
    "a=int(input(\"enter a num:\"))\n",
    "b=int(input(\"enter b num:\"))\n",
    "c=int(input(\"enter c num:\"))\n",
    "if( a>b and a>c):\n",
    "    print(\"a is largest num\")\n",
    "elif(b>a and b>c) :\n",
    "    print(\"b is largest num\")  \n",
    "elif(c>a and c>b) :\n",
    "    print(\"c is largest num\")    "
   ]
  },
  {
   "cell_type": "code",
   "execution_count": 4,
   "metadata": {},
   "outputs": [
    {
     "name": "stdout",
     "output_type": "stream",
     "text": [
      "totel= 160\n",
      "avg= 53.333333333333336\n",
      "sec\n"
     ]
    }
   ],
   "source": [
    "# find out division of student. if avg>=60 \"first\" if avg>=50 \"sec\" if avg>=40 third otherwise fail.\n",
    "math=int(input(\"enter a num:\"))\n",
    "hindi=int(input(\"enter b num:\"))\n",
    "english=int(input(\"enter c num:\"))\n",
    "totel=math+hindi+english\n",
    "print(\"totel=\",totel)\n",
    "avg=totel/3\n",
    "print(\"avg=\",avg)\n",
    "if (avg>=60):\n",
    "    print(\"first\")\n",
    "elif (avg>=50):\n",
    "    print(\"sec\") \n",
    "elif (avg>=40) :\n",
    "    print(\"third\") \n",
    "else:\n",
    "    print(\"fail\")         "
   ]
  },
  {
   "cell_type": "code",
   "execution_count": 2,
   "metadata": {},
   "outputs": [
    {
     "name": "stdout",
     "output_type": "stream",
     "text": [
      "Too young\n"
     ]
    }
   ],
   "source": [
    "#if the variable age is grater then 18,output \"old enough\",otherwise output \"Too young\".\n",
    "age=int(input(\"enter any num:\"))\n",
    "if age>18:\n",
    "    print(\"old enough\")\n",
    "else:\n",
    "    print(\"Too young\")    \n"
   ]
  },
  {
   "cell_type": "code",
   "execution_count": 4,
   "metadata": {},
   "outputs": [
    {
     "name": "stdout",
     "output_type": "stream",
     "text": [
      "Hurray! You are registered 😻\n"
     ]
    }
   ],
   "source": [
    "# nested if\n",
    "username=input(\"enter username:\")\n",
    "email=input(\"enter email:\")\n",
    "password=input(\"enter password:\")\n",
    "cpassword=input(\"enter confirm password:\")\n",
    "if len(username)>5 and len(username)<20:\n",
    "    if \"@\" in email and len(email)<30:\n",
    "        if len(password)>8 and len(password)<20:\n",
    "            if password == cpassword:\n",
    "                print(\"Hurray! You are registered 😻\")\n",
    "            else:\n",
    "                print(\"password does not match😢\") \n",
    "        else:\n",
    "            print(\"password should be between 8 to 20 characters👍\")   \n",
    "    else:\n",
    "        print(\"invalid email😒\")   \n",
    "else:\n",
    "    print(\"invalide email 😢\")                     \n",
    "        "
   ]
  },
  {
   "cell_type": "code",
   "execution_count": 10,
   "metadata": {},
   "outputs": [
    {
     "name": "stdout",
     "output_type": "stream",
     "text": [
      "wait\n"
     ]
    }
   ],
   "source": [
    "light=input(\"enter any color:\")\n",
    "if (light==\"red\"):\n",
    "    print(\"stop\")\n",
    "elif(light==\"green\") :\n",
    "    print(\"go\")  \n",
    "elif(light==\"yellow\") :\n",
    "    print(\"wait\")  \n",
    "else:\n",
    "    print(\"break\")      "
   ]
  },
  {
   "cell_type": "code",
   "execution_count": 14,
   "metadata": {},
   "outputs": [
    {
     "name": "stdout",
     "output_type": "stream",
     "text": [
      "best\n",
      "rong\n",
      "very bed\n"
     ]
    }
   ],
   "source": [
    "age=int(input(\"enter any name:\"))\n",
    "if age>5:\n",
    "    print(\"best\")\n",
    "if age>2:\n",
    "    print(\"rong\")\n",
    "if age>1:\n",
    "    print(\"very bed\")        "
   ]
  },
  {
   "cell_type": "code",
   "execution_count": 19,
   "metadata": {},
   "outputs": [
    {
     "name": "stdout",
     "output_type": "stream",
     "text": [
      "B\n"
     ]
    }
   ],
   "source": [
    "marks=int(input(\"enter any num:\"))\n",
    "if (marks>=90):\n",
    "    print(\"A\")\n",
    "elif (marks>=80 and marks<90)  :\n",
    "    print(\"B\")  \n",
    "elif (marks>=70 and marks <80)  :\n",
    "    print(\"C\") \n",
    "elif (marks>=60 and marks <70) :\n",
    "    print(\"D\")  \n",
    "      \n",
    "    "
   ]
  },
  {
   "cell_type": "code",
   "execution_count": 22,
   "metadata": {},
   "outputs": [
    {
     "name": "stdout",
     "output_type": "stream",
     "text": [
      "not drive\n"
     ]
    }
   ],
   "source": [
    "# Nested if condition.\n",
    "age=int(input(\"enter any num:\"))\n",
    "if (age>=18):\n",
    "    if(age>=90):\n",
    "        print(\"not drive\")\n",
    "    else:\n",
    "        print(\"drive\")    \n",
    "        \n",
    "        \n"
   ]
  },
  {
   "cell_type": "code",
   "execution_count": 24,
   "metadata": {},
   "outputs": [
    {
     "name": "stdout",
     "output_type": "stream",
     "text": [
      "not multiple is 7\n"
     ]
    }
   ],
   "source": [
    "#WAP to check if a number is a multiple of 7 or not.\n",
    "num=int(input(\"enter any num:\"))\n",
    "if (num%7==0):\n",
    "    print(\"multiple is 7\")\n",
    "else:\n",
    "    print(\"not multiple is 7\")    "
   ]
  },
  {
   "cell_type": "code",
   "execution_count": 3,
   "metadata": {},
   "outputs": [
    {
     "name": "stdout",
     "output_type": "stream",
     "text": [
      "adult\n"
     ]
    }
   ],
   "source": [
    "# conditional statement -if\n",
    "age=23\n",
    "if age>19:\n",
    "    print(\"adult\")"
   ]
  },
  {
   "cell_type": "code",
   "execution_count": 5,
   "metadata": {},
   "outputs": [
    {
     "name": "stdout",
     "output_type": "stream",
     "text": [
      "a is grater then b\n"
     ]
    }
   ],
   "source": [
    "a=200\n",
    "b=108\n",
    "if a>b:\n",
    "    print(\"a is grater then b\")"
   ]
  },
  {
   "cell_type": "code",
   "execution_count": 7,
   "metadata": {},
   "outputs": [
    {
     "name": "stdout",
     "output_type": "stream",
     "text": [
      "it's a cool day\n"
     ]
    }
   ],
   "source": [
    "# if else statement \n",
    "temperature=int(input(\"enter any temp:\"))\n",
    "if temperature>30:\n",
    "    print(\"it's a hot day\")\n",
    "else:\n",
    "    print(\"it's a cool day\")    "
   ]
  },
  {
   "cell_type": "code",
   "execution_count": 11,
   "metadata": {},
   "outputs": [
    {
     "name": "stdout",
     "output_type": "stream",
     "text": [
      "grade A\n"
     ]
    }
   ],
   "source": [
    "# if elif else condition-multiple condition for use.\n",
    "mark=int(input(\"enter a num:\"))\n",
    "if mark>90:\n",
    "    print(\"grade A\")\n",
    "elif mark>80:\n",
    "    print(\"grade B\")\n",
    "elif mark>70:\n",
    "    print(\"grade c\")\n",
    "else:\n",
    "    print(\"fail\")            "
   ]
  }
 ],
 "metadata": {
  "kernelspec": {
   "display_name": "base",
   "language": "python",
   "name": "python3"
  },
  "language_info": {
   "codemirror_mode": {
    "name": "ipython",
    "version": 3
   },
   "file_extension": ".py",
   "mimetype": "text/x-python",
   "name": "python",
   "nbconvert_exporter": "python",
   "pygments_lexer": "ipython3",
   "version": "3.12.3"
  }
 },
 "nbformat": 4,
 "nbformat_minor": 2
}
