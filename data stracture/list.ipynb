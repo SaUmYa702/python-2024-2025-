{
 "cells": [
  {
   "cell_type": "code",
   "execution_count": 5,
   "metadata": {},
   "outputs": [
    {
     "name": "stdout",
     "output_type": "stream",
     "text": [
      "['google', 'drive', 'instagram', 'facebook', 'swiggy', 'zomato', 'gpay', 'uber', 'teligram', 'playstore']\n"
     ]
    }
   ],
   "source": [
    "apps=[\"google\",\"drive\",\"instagram\",\"facebook\",\"swiggy\",\"zomato\",\"gpay\",\"uber\",\"teligram\",\"playstore\"]\n",
    "print(apps)"
   ]
  },
  {
   "cell_type": "markdown",
   "metadata": {},
   "source": [
    "INDEXING"
   ]
  },
  {
   "cell_type": "code",
   "execution_count": 6,
   "metadata": {},
   "outputs": [
    {
     "name": "stdout",
     "output_type": "stream",
     "text": [
      "swiggy\n"
     ]
    }
   ],
   "source": [
    "apps=[\"google\",\"drive\",\"instagram\",\"facebook\",\"swiggy\",\"zomato\",\"gpay\",\"uber\",\"teligram\",\"playstore\"]\n",
    "print(apps[4])"
   ]
  },
  {
   "cell_type": "code",
   "execution_count": 8,
   "metadata": {},
   "outputs": [
    {
     "name": "stdout",
     "output_type": "stream",
     "text": [
      "zomato\n"
     ]
    }
   ],
   "source": [
    "apps=[\"google\",\"drive\",\"instagram\",\"facebook\",\"swiggy\",\"zomato\",\"gpay\",\"uber\",\"teligram\",\"playstore\"]\n",
    "print(apps[-5])"
   ]
  },
  {
   "cell_type": "code",
   "execution_count": 9,
   "metadata": {},
   "outputs": [
    {
     "name": "stdout",
     "output_type": "stream",
     "text": [
      "9\n"
     ]
    }
   ],
   "source": [
    "num=[1,2,4,5,7,8,9,19]\n",
    "print(num[-2])"
   ]
  },
  {
   "cell_type": "code",
   "execution_count": 1,
   "metadata": {},
   "outputs": [
    {
     "name": "stdout",
     "output_type": "stream",
     "text": [
      "<class 'list'>\n"
     ]
    }
   ],
   "source": [
    "a=[]\n",
    "print(type(a))"
   ]
  },
  {
   "cell_type": "code",
   "execution_count": 2,
   "metadata": {},
   "outputs": [
    {
     "name": "stdout",
     "output_type": "stream",
     "text": [
      "['saumya', 'true', 3.6, 22, 76.7, 2, 2, 4, 5, 5, 5]\n"
     ]
    }
   ],
   "source": [
    "x=[\"saumya\",\"true\",3.6,22,76.7,2,2,4,5,5,5]\n",
    "print(x)"
   ]
  },
  {
   "cell_type": "code",
   "execution_count": 3,
   "metadata": {},
   "outputs": [
    {
     "name": "stdout",
     "output_type": "stream",
     "text": [
      "[1, 2, 5, 6, 7, 8, 9]\n"
     ]
    }
   ],
   "source": [
    "#list acces of integers.\n",
    "s=[1,2,5,6,7,8,9]\n",
    "print(s)"
   ]
  },
  {
   "cell_type": "code",
   "execution_count": 8,
   "metadata": {},
   "outputs": [
    {
     "name": "stdout",
     "output_type": "stream",
     "text": [
      "[1, 2, [3, 4, 5], [8, 9, 's'], 5]\n"
     ]
    }
   ],
   "source": [
    "# list access of nested list.\n",
    "a=[1,2,[3,4,5],[8,9,\"s\"],5]\n",
    "print(a)"
   ]
  },
  {
   "cell_type": "code",
   "execution_count": 13,
   "metadata": {},
   "outputs": [
    {
     "name": "stdout",
     "output_type": "stream",
     "text": [
      "apple\n",
      "true\n",
      "88\n",
      "color\n",
      "true\n"
     ]
    }
   ],
   "source": [
    "#indexing in python.\n",
    "mixed=[\"apple\",45,6.6,\"true\",88,\"apple\",\"color\"]\n",
    "print(mixed[0])\n",
    "\n",
    "print(mixed[3])\n",
    "\n",
    "print(mixed[4])\n",
    "print(mixed[-1])\n",
    "print(mixed[-4])"
   ]
  },
  {
   "cell_type": "code",
   "execution_count": 14,
   "metadata": {},
   "outputs": [
    {
     "name": "stdout",
     "output_type": "stream",
     "text": [
      "[20, 40, 60]\n",
      "[20, 40]\n"
     ]
    }
   ],
   "source": [
    "#list slicing.\n",
    "x=[20,40,60,28,1,55,77,88,99]\n",
    "print(x[0:3])\n",
    "print(x[0:2])"
   ]
  },
  {
   "cell_type": "code",
   "execution_count": 15,
   "metadata": {},
   "outputs": [
    {
     "name": "stdout",
     "output_type": "stream",
     "text": [
      "[40, 60, 28, 1]\n"
     ]
    }
   ],
   "source": [
    "# elements fron index 1 to 4.\n",
    "x=[20,40,60,28,1,55,77,88,99]\n",
    "print(x[1:5])"
   ]
  },
  {
   "cell_type": "code",
   "execution_count": 16,
   "metadata": {},
   "outputs": [
    {
     "name": "stdout",
     "output_type": "stream",
     "text": [
      "[77, 88, 99]\n"
     ]
    }
   ],
   "source": [
    "# last three elements.\n",
    "x=[20,40,60,28,1,55,77,88,99]\n",
    "print(x[-3:])"
   ]
  },
  {
   "cell_type": "code",
   "execution_count": null,
   "metadata": {},
   "outputs": [],
   "source": []
  }
 ],
 "metadata": {
  "kernelspec": {
   "display_name": "base",
   "language": "python",
   "name": "python3"
  },
  "language_info": {
   "codemirror_mode": {
    "name": "ipython",
    "version": 3
   },
   "file_extension": ".py",
   "mimetype": "text/x-python",
   "name": "python",
   "nbconvert_exporter": "python",
   "pygments_lexer": "ipython3",
   "version": "3.12.8"
  }
 },
 "nbformat": 4,
 "nbformat_minor": 2
}
