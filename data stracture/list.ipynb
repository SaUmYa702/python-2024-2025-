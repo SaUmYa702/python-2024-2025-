{
 "cells": [
  {
   "cell_type": "code",
   "execution_count": 5,
   "metadata": {},
   "outputs": [
    {
     "name": "stdout",
     "output_type": "stream",
     "text": [
      "['google', 'drive', 'instagram', 'facebook', 'swiggy', 'zomato', 'gpay', 'uber', 'teligram', 'playstore']\n"
     ]
    }
   ],
   "source": [
    "apps=[\"google\",\"drive\",\"instagram\",\"facebook\",\"swiggy\",\"zomato\",\"gpay\",\"uber\",\"teligram\",\"playstore\"]\n",
    "print(apps)"
   ]
  },
  {
   "cell_type": "markdown",
   "metadata": {},
   "source": [
    "INDEXING"
   ]
  },
  {
   "cell_type": "code",
   "execution_count": 6,
   "metadata": {},
   "outputs": [
    {
     "name": "stdout",
     "output_type": "stream",
     "text": [
      "swiggy\n"
     ]
    }
   ],
   "source": [
    "apps=[\"google\",\"drive\",\"instagram\",\"facebook\",\"swiggy\",\"zomato\",\"gpay\",\"uber\",\"teligram\",\"playstore\"]\n",
    "print(apps[4])"
   ]
  },
  {
   "cell_type": "code",
   "execution_count": 8,
   "metadata": {},
   "outputs": [
    {
     "name": "stdout",
     "output_type": "stream",
     "text": [
      "zomato\n"
     ]
    }
   ],
   "source": [
    "apps=[\"google\",\"drive\",\"instagram\",\"facebook\",\"swiggy\",\"zomato\",\"gpay\",\"uber\",\"teligram\",\"playstore\"]\n",
    "print(apps[-5])"
   ]
  },
  {
   "cell_type": "code",
   "execution_count": 9,
   "metadata": {},
   "outputs": [
    {
     "name": "stdout",
     "output_type": "stream",
     "text": [
      "9\n"
     ]
    }
   ],
   "source": [
    "num=[1,2,4,5,7,8,9,19]\n",
    "print(num[-2])"
   ]
  }
 ],
 "metadata": {
  "kernelspec": {
   "display_name": "base",
   "language": "python",
   "name": "python3"
  },
  "language_info": {
   "codemirror_mode": {
    "name": "ipython",
    "version": 3
   },
   "file_extension": ".py",
   "mimetype": "text/x-python",
   "name": "python",
   "nbconvert_exporter": "python",
   "pygments_lexer": "ipython3",
   "version": "3.12.8"
  }
 },
 "nbformat": 4,
 "nbformat_minor": 2
}
