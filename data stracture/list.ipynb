{
 "cells": [
  {
   "cell_type": "code",
   "execution_count": 5,
   "metadata": {},
   "outputs": [
    {
     "name": "stdout",
     "output_type": "stream",
     "text": [
      "['google', 'drive', 'instagram', 'facebook', 'swiggy', 'zomato', 'gpay', 'uber', 'teligram', 'playstore']\n"
     ]
    }
   ],
   "source": [
    "apps=[\"google\",\"drive\",\"instagram\",\"facebook\",\"swiggy\",\"zomato\",\"gpay\",\"uber\",\"teligram\",\"playstore\"]\n",
    "print(apps)"
   ]
  },
  {
   "cell_type": "markdown",
   "metadata": {},
   "source": [
    "INDEXING"
   ]
  },
  {
   "cell_type": "code",
   "execution_count": 6,
   "metadata": {},
   "outputs": [
    {
     "name": "stdout",
     "output_type": "stream",
     "text": [
      "swiggy\n"
     ]
    }
   ],
   "source": [
    "apps=[\"google\",\"drive\",\"instagram\",\"facebook\",\"swiggy\",\"zomato\",\"gpay\",\"uber\",\"teligram\",\"playstore\"]\n",
    "print(apps[4])"
   ]
  },
  {
   "cell_type": "code",
   "execution_count": 8,
   "metadata": {},
   "outputs": [
    {
     "name": "stdout",
     "output_type": "stream",
     "text": [
      "zomato\n"
     ]
    }
   ],
   "source": [
    "apps=[\"google\",\"drive\",\"instagram\",\"facebook\",\"swiggy\",\"zomato\",\"gpay\",\"uber\",\"teligram\",\"playstore\"]\n",
    "print(apps[-5])"
   ]
  },
  {
   "cell_type": "code",
   "execution_count": 9,
   "metadata": {},
   "outputs": [
    {
     "name": "stdout",
     "output_type": "stream",
     "text": [
      "9\n"
     ]
    }
   ],
   "source": [
    "num=[1,2,4,5,7,8,9,19]\n",
    "print(num[-2])"
   ]
  },
  {
   "cell_type": "code",
   "execution_count": 1,
   "metadata": {},
   "outputs": [
    {
     "name": "stdout",
     "output_type": "stream",
     "text": [
      "<class 'list'>\n"
     ]
    }
   ],
   "source": [
    "a=[]\n",
    "print(type(a))"
   ]
  },
  {
   "cell_type": "code",
   "execution_count": 2,
   "metadata": {},
   "outputs": [
    {
     "name": "stdout",
     "output_type": "stream",
     "text": [
      "['saumya', 'true', 3.6, 22, 76.7, 2, 2, 4, 5, 5, 5]\n"
     ]
    }
   ],
   "source": [
    "x=[\"saumya\",\"true\",3.6,22,76.7,2,2,4,5,5,5]\n",
    "print(x)"
   ]
  },
  {
   "cell_type": "code",
   "execution_count": 3,
   "metadata": {},
   "outputs": [
    {
     "name": "stdout",
     "output_type": "stream",
     "text": [
      "[1, 2, 5, 6, 7, 8, 9]\n"
     ]
    }
   ],
   "source": [
    "#list acces of integers.\n",
    "s=[1,2,5,6,7,8,9]\n",
    "print(s)"
   ]
  },
  {
   "cell_type": "code",
   "execution_count": 8,
   "metadata": {},
   "outputs": [
    {
     "name": "stdout",
     "output_type": "stream",
     "text": [
      "[1, 2, [3, 4, 5], [8, 9, 's'], 5]\n"
     ]
    }
   ],
   "source": [
    "# list access of nested list.\n",
    "a=[1,2,[3,4,5],[8,9,\"s\"],5]\n",
    "print(a)"
   ]
  },
  {
   "cell_type": "code",
   "execution_count": 13,
   "metadata": {},
   "outputs": [
    {
     "name": "stdout",
     "output_type": "stream",
     "text": [
      "apple\n",
      "true\n",
      "88\n",
      "color\n",
      "true\n"
     ]
    }
   ],
   "source": [
    "#indexing in python.\n",
    "mixed=[\"apple\",45,6.6,\"true\",88,\"apple\",\"color\"]\n",
    "print(mixed[0])\n",
    "\n",
    "print(mixed[3])\n",
    "\n",
    "print(mixed[4])\n",
    "print(mixed[-1])\n",
    "print(mixed[-4])"
   ]
  },
  {
   "cell_type": "code",
   "execution_count": 14,
   "metadata": {},
   "outputs": [
    {
     "name": "stdout",
     "output_type": "stream",
     "text": [
      "[20, 40, 60]\n",
      "[20, 40]\n"
     ]
    }
   ],
   "source": [
    "#list slicing.\n",
    "x=[20,40,60,28,1,55,77,88,99]\n",
    "print(x[0:3])\n",
    "print(x[0:2])"
   ]
  },
  {
   "cell_type": "code",
   "execution_count": 15,
   "metadata": {},
   "outputs": [
    {
     "name": "stdout",
     "output_type": "stream",
     "text": [
      "[40, 60, 28, 1]\n"
     ]
    }
   ],
   "source": [
    "# elements fron index 1 to 4.\n",
    "x=[20,40,60,28,1,55,77,88,99]\n",
    "print(x[1:5])"
   ]
  },
  {
   "cell_type": "code",
   "execution_count": 16,
   "metadata": {},
   "outputs": [
    {
     "name": "stdout",
     "output_type": "stream",
     "text": [
      "[77, 88, 99]\n"
     ]
    }
   ],
   "source": [
    "# last three elements.\n",
    "x=[20,40,60,28,1,55,77,88,99]\n",
    "print(x[-3:])"
   ]
  },
  {
   "cell_type": "code",
   "execution_count": 17,
   "metadata": {},
   "outputs": [
    {
     "name": "stdout",
     "output_type": "stream",
     "text": [
      "[20, 40, 60, 28, 1, 55, 77, 88, 99]\n"
     ]
    }
   ],
   "source": [
    "x=[20,40,60,28,1,55,77,88,99]\n",
    "print(x[::])"
   ]
  },
  {
   "cell_type": "code",
   "execution_count": 18,
   "metadata": {},
   "outputs": [
    {
     "name": "stdout",
     "output_type": "stream",
     "text": [
      "[20, 60, 1, 77, 99]\n"
     ]
    }
   ],
   "source": [
    "# alternative elements.\n",
    "x=[20,40,60,28,1,55,77,88,99]\n",
    "print(x[::2])"
   ]
  },
  {
   "cell_type": "code",
   "execution_count": 19,
   "metadata": {},
   "outputs": [
    {
     "name": "stdout",
     "output_type": "stream",
     "text": [
      "[99, 88, 77, 55, 1, 28, 60, 40, 20]\n"
     ]
    }
   ],
   "source": [
    "# reverse list.\n",
    "x=[20,40,60,28,1,55,77,88,99]\n",
    "print(x[::-1])"
   ]
  },
  {
   "cell_type": "code",
   "execution_count": 22,
   "metadata": {},
   "outputs": [
    {
     "name": "stdout",
     "output_type": "stream",
     "text": [
      "[20, 40, 60, 28, 1, 55]\n",
      "[20, 40, 60, 28, 1, 55, 77]\n",
      "[88, 99]\n"
     ]
    }
   ],
   "source": [
    "x=[20,40,60,28,1,55,77,88,99]\n",
    "print(x[:6])\n",
    "print(x[:-2])\n",
    "print(x[-2:])"
   ]
  },
  {
   "cell_type": "code",
   "execution_count": 23,
   "metadata": {},
   "outputs": [
    {
     "name": "stdout",
     "output_type": "stream",
     "text": [
      "['google', 'amazon', 'instagram', 'facebook', 'swiggy', 'zomato', 'gpay', 'uber', 'teligram', 'playstore']\n"
     ]
    }
   ],
   "source": [
    "#list modify.\n",
    "apps=[\"google\",\"drive\",\"instagram\",\"facebook\",\"swiggy\",\"zomato\",\"gpay\",\"uber\",\"teligram\",\"playstore\"]\n",
    "apps[1]=\"amazon\"\n",
    "print(apps)"
   ]
  },
  {
   "cell_type": "code",
   "execution_count": 24,
   "metadata": {},
   "outputs": [
    {
     "name": "stdout",
     "output_type": "stream",
     "text": [
      "['apple', 'banana', 'kiwi', 'orange', 'onion', 'mango']\n"
     ]
    }
   ],
   "source": [
    "# add elements in list.\n",
    "fruits=[\"apple\",\"banana\",\"kiwi\",\"orange\",\"onion\"]\n",
    "fruits.append(\"mango\")\n",
    "print(fruits)"
   ]
  },
  {
   "cell_type": "code",
   "execution_count": 26,
   "metadata": {},
   "outputs": [
    {
     "name": "stdout",
     "output_type": "stream",
     "text": [
      "['apple', 'kiwi', 'orange', 'onion']\n"
     ]
    }
   ],
   "source": [
    "# remove elements in list.\n",
    "fruits=[\"apple\",\"banana\",\"kiwi\",\"orange\",\"onion\"]\n",
    "fruits.remove(\"banana\")\n",
    "print(fruits)"
   ]
  },
  {
   "cell_type": "code",
   "execution_count": 32,
   "metadata": {},
   "outputs": [
    {
     "name": "stdout",
     "output_type": "stream",
     "text": [
      "['red', 'pink', 'black', 'white']\n"
     ]
    }
   ],
   "source": [
    "# list method.\n",
    "# append method\n",
    "color=[\"red\",\"pink\",\"black\"]\n",
    "color.append(\"white\")\n",
    "print(color)\n"
   ]
  },
  {
   "cell_type": "code",
   "execution_count": 34,
   "metadata": {},
   "outputs": [
    {
     "name": "stdout",
     "output_type": "stream",
     "text": [
      "[2, 4, 5, 6, 'c', 'b', 'n']\n"
     ]
    }
   ],
   "source": [
    "# extend method.\n",
    "num=[2,4,5,6]\n",
    "a=[\"c\",\"b\",\"n\"]\n",
    "num.extend(a)\n",
    "print(num)"
   ]
  },
  {
   "cell_type": "code",
   "execution_count": 35,
   "metadata": {},
   "outputs": [
    {
     "name": "stdout",
     "output_type": "stream",
     "text": [
      "['apple', 'orange', 'mango', 'kiwi']\n"
     ]
    }
   ],
   "source": [
    "# insert method.\n",
    "fruits=[\"apple\",\"mango\",\"kiwi\"]\n",
    "fruits.insert(1,\"orange\")\n",
    "print(fruits)"
   ]
  },
  {
   "cell_type": "code",
   "execution_count": 36,
   "metadata": {},
   "outputs": [
    {
     "name": "stdout",
     "output_type": "stream",
     "text": [
      "['mango', 'kiwi', 'apple']\n"
     ]
    }
   ],
   "source": [
    "# remove method.\n",
    "fruits=[\"apple\",\"mango\",\"kiwi\",\"apple\"]\n",
    "fruits.remove(\"apple\")\n",
    "print(fruits)"
   ]
  },
  {
   "cell_type": "code",
   "execution_count": 37,
   "metadata": {},
   "outputs": [
    {
     "name": "stdout",
     "output_type": "stream",
     "text": [
      "[]\n"
     ]
    }
   ],
   "source": [
    "#clear method.\n",
    "num=[1,2,5,6,78,99]\n",
    "num.clear() #empty list\n",
    "print(num)"
   ]
  },
  {
   "cell_type": "code",
   "execution_count": 44,
   "metadata": {},
   "outputs": [
    {
     "name": "stdout",
     "output_type": "stream",
     "text": [
      "3\n"
     ]
    }
   ],
   "source": [
    "# counts elements.\n",
    "fruits=[\"apple\",\"mango\",\"mango\",\"mango\"]\n",
    "count=fruits.count(\"mango\")\n",
    "print(count)"
   ]
  },
  {
   "cell_type": "code",
   "execution_count": 45,
   "metadata": {},
   "outputs": [
    {
     "name": "stdout",
     "output_type": "stream",
     "text": [
      "['mango', 'mango', 'mango', 'apple']\n"
     ]
    }
   ],
   "source": [
    "# reverse list.\n",
    "fruits=[\"apple\",\"mango\",\"mango\",\"mango\"]\n",
    "fruits.reverse()\n",
    "print(fruits)\n"
   ]
  },
  {
   "cell_type": "code",
   "execution_count": 46,
   "metadata": {},
   "outputs": [
    {
     "name": "stdout",
     "output_type": "stream",
     "text": [
      "[1, 3, 3, 4, 5, 7, 8]\n"
     ]
    }
   ],
   "source": [
    "# shorting list\n",
    "num=[1,3,7,8,5,4,3]\n",
    "num.sort()\n",
    "print(num)"
   ]
  },
  {
   "cell_type": "code",
   "execution_count": 47,
   "metadata": {},
   "outputs": [
    {
     "name": "stdout",
     "output_type": "stream",
     "text": [
      "[8, 7, 5, 4, 3, 3, 1]\n"
     ]
    }
   ],
   "source": [
    "# shorting list in descending order.\n",
    "num=[1,3,7,8,5,4,3]\n",
    "num.sort(reverse=True)\n",
    "print(num)"
   ]
  },
  {
   "cell_type": "code",
   "execution_count": 53,
   "metadata": {},
   "outputs": [
    {
     "name": "stdout",
     "output_type": "stream",
     "text": [
      "c\n",
      "['a', 'b', 'd', 'e']\n"
     ]
    }
   ],
   "source": [
    "# pop with index value.\n",
    "s=[\"a\",\"b\",\"c\",\"d\",\"e\"]\n",
    "pop=s.pop(2)\n",
    "print(pop)\n",
    "print(s)"
   ]
  },
  {
   "cell_type": "code",
   "execution_count": 52,
   "metadata": {},
   "outputs": [
    {
     "name": "stdout",
     "output_type": "stream",
     "text": [
      "e\n",
      "['a', 'b', 'c', 'd']\n"
     ]
    }
   ],
   "source": [
    "# pop with default.\n",
    "s=[\"a\",\"b\",\"c\",\"d\",\"e\"]\n",
    "pop=s.pop()\n",
    "print(pop)\n",
    "print(s)"
   ]
  },
  {
   "cell_type": "code",
   "execution_count": 1,
   "metadata": {},
   "outputs": [
    {
     "name": "stdout",
     "output_type": "stream",
     "text": [
      "['a', 'b', 'c', 'd', 'e']\n"
     ]
    }
   ],
   "source": [
    "# copy list.\n",
    "s=[\"a\",\"b\",\"c\",\"d\",\"e\"]\n",
    "z=s.copy()\n",
    "print(z)"
   ]
  },
  {
   "cell_type": "code",
   "execution_count": 2,
   "metadata": {},
   "outputs": [
    {
     "name": "stdout",
     "output_type": "stream",
     "text": [
      "[1, 2, 3, 'a', 'b']\n"
     ]
    }
   ],
   "source": [
    "# joins lists.\n",
    "list1=[1,2,3]\n",
    "list2=['a','b']\n",
    "list3=list1+list2\n",
    "print(list3)"
   ]
  },
  {
   "cell_type": "code",
   "execution_count": 4,
   "metadata": {},
   "outputs": [
    {
     "name": "stdout",
     "output_type": "stream",
     "text": [
      "[1, 2, 3, 'a']\n",
      "[1, 2, 3, 'a', 'b']\n"
     ]
    }
   ],
   "source": [
    "# usaing  append method\n",
    "list1=[1,2,3]\n",
    "list2=['a','b']\n",
    "for x in list2:\n",
    "    list1.append(x)\n",
    "    print(list1)"
   ]
  },
  {
   "cell_type": "markdown",
   "metadata": {},
   "source": [
    "List comprehensions."
   ]
  },
  {
   "cell_type": "code",
   "execution_count": 5,
   "metadata": {},
   "outputs": [
    {
     "name": "stdout",
     "output_type": "stream",
     "text": [
      "[1, 4, 9, 16, 25]\n"
     ]
    }
   ],
   "source": [
    "# list comprehensions.\n",
    "# creating a list of square.\n",
    "square=[ x**2 for x in range(1,6)]\n",
    "print(square)"
   ]
  },
  {
   "cell_type": "code",
   "execution_count": 6,
   "metadata": {},
   "outputs": [
    {
     "name": "stdout",
     "output_type": "stream",
     "text": [
      "[2, 4, 6, 8, 10]\n"
     ]
    }
   ],
   "source": [
    "# filterning even num.\n",
    "even_num=[x for x in range(1,11) if x%2==0]\n",
    "print(even_num)"
   ]
  },
  {
   "cell_type": "code",
   "execution_count": 9,
   "metadata": {},
   "outputs": [
    {
     "name": "stdout",
     "output_type": "stream",
     "text": [
      "['aayushi', 'kusum', 'abhishek']\n",
      "['komal', 'kusum', 'abhinav', 'kartik']\n",
      "['mushkan', 'komal', 'aayushi', 'kusum', 'abhishek', 'abhinav', 'mayank', 'kartik']\n",
      "['abhishek', 'abhinav', 'mayank', 'kartik', 'kusum']\n",
      "['mushkan', 'komal', 'aayushi', 'kusum', 'abhishek', 'abhinav', 'mayank', 'kartik', 'kusum']\n",
      "['mushkan', 'komal', 'aayushi', 'kusum', 'abhishek', 'abhinav', 'mayank', 'kartik', 'kusum']\n",
      "[]\n"
     ]
    }
   ],
   "source": [
    "# slicing\n",
    "name=[\"mushkan\",\"komal\",\"aayushi\",\"kusum\",\"abhishek\",\"abhinav\",\"mayank\",\"kartik\",\"kusum\"]\n",
    "print(name[2:5])\n",
    "print(name[1:8:2])\n",
    "print(name[:8])\n",
    "print(name[4:])\n",
    "print(name[:])\n",
    "print(name[::])"
   ]
  },
  {
   "cell_type": "markdown",
   "metadata": {},
   "source": [
    "List method\n",
    "- append() : to add an element at the end of the list.\n",
    "- insert() : to add an element at any specific position.\n",
    "- pop() : to delete an item using the index position.\n",
    "- remove() : to delete at item using it's name.\n",
    "- sort() : to sort the list in a particular order.\n",
    "- copy() : to make an copy off the list.\n",
    "- extend() : to combine to list into a one list.\n",
    "- clear() :delete all elements from the list but\n"
   ]
  },
  {
   "cell_type": "code",
   "execution_count": 11,
   "metadata": {},
   "outputs": [
    {
     "name": "stdout",
     "output_type": "stream",
     "text": [
      "['google', 'drive', 'instagram', 'facebook', 'swiggy', 'zomato', 'gpay', 'uber', 'teligram', 'playstore', 'whatsapp']\n"
     ]
    }
   ],
   "source": [
    "apps=[\"google\",\"drive\",\"instagram\",\"facebook\",\"swiggy\",\"zomato\",\"gpay\",\"uber\",\"teligram\",\"playstore\"]\n",
    "apps.append(\"whatsapp\")\n",
    "print(apps)"
   ]
  },
  {
   "cell_type": "code",
   "execution_count": 12,
   "metadata": {},
   "outputs": [
    {
     "name": "stdout",
     "output_type": "stream",
     "text": [
      "['google', 'drive', 'instagram', 'radio', 'facebook', 'swiggy', 'zomato', 'gpay', 'uber', 'teligram', 'playstore', 'whatsapp']\n"
     ]
    }
   ],
   "source": [
    "apps.insert(3,\"radio\")\n",
    "print(apps)"
   ]
  },
  {
   "cell_type": "code",
   "execution_count": 13,
   "metadata": {},
   "outputs": [
    {
     "name": "stdout",
     "output_type": "stream",
     "text": [
      "['google', 'drive', 'instagram', 'radio', 'facebook', 'swiggy', 'zomato', 'gpay', 'uber', 'teligram', 'playstore']\n"
     ]
    }
   ],
   "source": [
    "apps.pop(-1)\n",
    "print(apps)"
   ]
  },
  {
   "cell_type": "code",
   "execution_count": 14,
   "metadata": {},
   "outputs": [
    {
     "name": "stdout",
     "output_type": "stream",
     "text": [
      "['google', 'drive', 'instagram', 'radio', 'facebook', 'zomato', 'gpay', 'uber', 'teligram', 'playstore']\n"
     ]
    }
   ],
   "source": [
    "apps.remove(\"swiggy\")\n",
    "print(apps)"
   ]
  },
  {
   "cell_type": "code",
   "execution_count": 15,
   "metadata": {},
   "outputs": [
    {
     "name": "stdout",
     "output_type": "stream",
     "text": [
      "['drive', 'facebook', 'google', 'gpay', 'instagram', 'playstore', 'radio', 'teligram', 'uber', 'zomato']\n"
     ]
    }
   ],
   "source": [
    "apps.sort()\n",
    "print(apps)"
   ]
  },
  {
   "cell_type": "code",
   "execution_count": 16,
   "metadata": {},
   "outputs": [
    {
     "name": "stdout",
     "output_type": "stream",
     "text": [
      "['zomato', 'uber', 'teligram', 'radio', 'playstore', 'instagram', 'gpay', 'google', 'facebook', 'drive']\n"
     ]
    }
   ],
   "source": [
    "apps.sort(reverse=True)\n",
    "print(apps)"
   ]
  },
  {
   "cell_type": "code",
   "execution_count": 17,
   "metadata": {},
   "outputs": [
    {
     "name": "stdout",
     "output_type": "stream",
     "text": [
      "['zomato', 'uber', 'teligram', 'radio', 'playstore', 'instagram', 'gpay', 'google', 'facebook', 'drive']\n"
     ]
    }
   ],
   "source": [
    "apps2=apps.copy()\n",
    "print(apps2)"
   ]
  },
  {
   "cell_type": "code",
   "execution_count": 18,
   "metadata": {},
   "outputs": [
    {
     "name": "stdout",
     "output_type": "stream",
     "text": [
      "['zomato', 'uber', 'teligram', 'radio', 'playstore', 'instagram', 'gpay', 'google', 'facebook', 'drive', 'zomato', 'uber', 'teligram', 'radio', 'playstore', 'instagram', 'gpay', 'google', 'facebook', 'drive']\n"
     ]
    }
   ],
   "source": [
    "apps.extend(apps2)\n",
    "print(apps)"
   ]
  },
  {
   "cell_type": "code",
   "execution_count": 20,
   "metadata": {},
   "outputs": [
    {
     "name": "stdout",
     "output_type": "stream",
     "text": [
      "[]\n"
     ]
    }
   ],
   "source": [
    "apps.clear()\n",
    "print(apps)"
   ]
  },
  {
   "cell_type": "code",
   "execution_count": 2,
   "metadata": {},
   "outputs": [
    {
     "name": "stdout",
     "output_type": "stream",
     "text": [
      "1\n",
      "3\n",
      "8\n"
     ]
    }
   ],
   "source": [
    "num=input(\"enter any number:\")\n",
    "sum=0\n",
    "for i in num:\n",
    "    sum += int(i)\n",
    "    print(sum)"
   ]
  }
 ],
 "metadata": {
  "kernelspec": {
   "display_name": "base",
   "language": "python",
   "name": "python3"
  },
  "language_info": {
   "codemirror_mode": {
    "name": "ipython",
    "version": 3
   },
   "file_extension": ".py",
   "mimetype": "text/x-python",
   "name": "python",
   "nbconvert_exporter": "python",
   "pygments_lexer": "ipython3",
   "version": "3.12.3"
  }
 },
 "nbformat": 4,
 "nbformat_minor": 2
}
