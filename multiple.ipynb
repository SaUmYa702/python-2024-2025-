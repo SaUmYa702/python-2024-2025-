{
 "cells": [
  {
   "cell_type": "code",
   "execution_count": 1,
   "metadata": {},
   "outputs": [
    {
     "name": "stdout",
     "output_type": "stream",
     "text": [
      "c is largest num\n"
     ]
    }
   ],
   "source": [
    "# WAP to print largest of three number entered by users.\n",
    "a=int(input(\"enter a num:\"))\n",
    "b=int(input(\"enter b num:\"))\n",
    "c=int(input(\"enter c num:\"))\n",
    "if a>b and a>c:\n",
    "    print(\"a is largest num\")\n",
    "elif b>a and b>c:\n",
    "    print(\"b is largest num\") \n",
    "elif c>a and c>b:\n",
    "    print(\"c is largest num\")       "
   ]
  },
  {
   "cell_type": "code",
   "execution_count": 4,
   "metadata": {},
   "outputs": [
    {
     "name": "stdout",
     "output_type": "stream",
     "text": [
      "21.0\n"
     ]
    }
   ],
   "source": [
    "# wap to calculate the area of triangle.\n",
    "base=float(input(\"enter a num:\"))\n",
    "hight=float(input(\"enter b num:\"))\n",
    "area=0.5*base*hight\n",
    "print(area)"
   ]
  },
  {
   "cell_type": "code",
   "execution_count": 7,
   "metadata": {},
   "outputs": [
    {
     "name": "stdout",
     "output_type": "stream",
     "text": [
      "hgnis aymuas\n"
     ]
    }
   ],
   "source": [
    "# wap that reverses a given string entered by user.\n",
    "string=input(\"enter any str:\")\n",
    "print(string[::-1])"
   ]
  },
  {
   "cell_type": "code",
   "execution_count": 8,
   "metadata": {},
   "outputs": [
    {
     "name": "stdout",
     "output_type": "stream",
     "text": [
      "I AM THE BEST\n",
      "I AM THE BEST\n",
      "I AM THE BEST\n",
      "I AM THE BEST\n",
      "I AM THE BEST\n",
      "I AM THE BEST\n",
      "I AM THE BEST\n",
      "I AM THE BEST\n",
      "I AM THE BEST\n",
      "I AM THE BEST\n"
     ]
    }
   ],
   "source": [
    "# wap to print I AM THE BEST 10 items.\n",
    "for i in range(1,11):\n",
    "    print(\"I AM THE BEST\")"
   ]
  },
  {
   "cell_type": "code",
   "execution_count": 15,
   "metadata": {},
   "outputs": [
    {
     "name": "stdout",
     "output_type": "stream",
     "text": [
      "1\n",
      "3\n",
      "6\n",
      "10\n",
      "15\n",
      "21\n",
      "28\n",
      "36\n",
      "45\n",
      "55\n",
      "66\n",
      "78\n",
      "91\n",
      "105\n",
      "120\n",
      "136\n",
      "153\n",
      "171\n",
      "190\n",
      "210\n",
      "231\n",
      "253\n",
      "276\n",
      "300\n",
      "325\n",
      "351\n",
      "378\n",
      "406\n",
      "435\n",
      "465\n",
      "496\n",
      "528\n",
      "561\n",
      "595\n",
      "630\n",
      "666\n",
      "703\n",
      "741\n",
      "780\n",
      "820\n",
      "861\n",
      "903\n",
      "946\n",
      "990\n",
      "1035\n",
      "1081\n",
      "1128\n",
      "1176\n",
      "1225\n",
      "1275\n",
      "1326\n",
      "1378\n",
      "1431\n",
      "1485\n",
      "1540\n",
      "1596\n",
      "1653\n",
      "1711\n",
      "1770\n",
      "1830\n",
      "1891\n",
      "1953\n",
      "2016\n",
      "2080\n",
      "2145\n",
      "2211\n",
      "2278\n",
      "2346\n",
      "2415\n",
      "2485\n",
      "2556\n",
      "2628\n",
      "2701\n",
      "2775\n",
      "2850\n",
      "2926\n",
      "3003\n",
      "3081\n",
      "3160\n",
      "3240\n",
      "3321\n",
      "3403\n",
      "3486\n",
      "3570\n",
      "3655\n",
      "3741\n",
      "3828\n",
      "3916\n",
      "4005\n",
      "4095\n",
      "4186\n",
      "4278\n",
      "4371\n",
      "4465\n",
      "4560\n",
      "4656\n",
      "4753\n",
      "4851\n",
      "4950\n",
      "5050\n"
     ]
    }
   ],
   "source": [
    "# wap that uses a while loop to calculate the sum of all numbers from 1 to 100.\n",
    "i=1\n",
    "sum=0\n",
    "while i <=100:\n",
    "    sum +=i\n",
    "    i +=1\n",
    "    print(sum)\n"
   ]
  },
  {
   "cell_type": "code",
   "execution_count": 17,
   "metadata": {},
   "outputs": [
    {
     "name": "stdout",
     "output_type": "stream",
     "text": [
      "6\n",
      "12\n",
      "18\n",
      "24\n",
      "30\n",
      "36\n",
      "42\n",
      "48\n",
      "54\n",
      "60\n"
     ]
    }
   ],
   "source": [
    "# create a program that prints the multiplication table of a number by the user.\n",
    "a=int(input(\"enter any num:\"))\n",
    "for i in range(1,11):\n",
    "    print(a*i)"
   ]
  },
  {
   "cell_type": "code",
   "execution_count": 29,
   "metadata": {},
   "outputs": [
    {
     "name": "stdout",
     "output_type": "stream",
     "text": [
      "5 x 1 = 5\n",
      "\n",
      "\n",
      "5 x 2 = 10\n",
      "\n",
      "\n",
      "5 x 3 = 15\n",
      "\n",
      "\n",
      "5 x 4 = 20\n",
      "\n",
      "\n",
      "5 x 5 = 25\n",
      "\n",
      "\n",
      "5 x 6 = 30\n",
      "\n",
      "\n",
      "5 x 7 = 35\n",
      "\n",
      "\n",
      "5 x 8 = 40\n",
      "\n",
      "\n",
      "5 x 9 = 45\n",
      "\n",
      "\n",
      "5 x 10 = 50\n",
      "\n",
      "\n",
      "6 x 1 = 6\n",
      "\n",
      "\n",
      "6 x 2 = 12\n",
      "\n",
      "\n",
      "6 x 3 = 18\n",
      "\n",
      "\n",
      "6 x 4 = 24\n",
      "\n",
      "\n",
      "6 x 5 = 30\n",
      "\n",
      "\n",
      "6 x 6 = 36\n",
      "\n",
      "\n",
      "6 x 7 = 42\n",
      "\n",
      "\n",
      "6 x 8 = 48\n",
      "\n",
      "\n",
      "6 x 9 = 54\n",
      "\n",
      "\n",
      "6 x 10 = 60\n",
      "\n",
      "\n",
      "7 x 1 = 7\n",
      "\n",
      "\n",
      "7 x 2 = 14\n",
      "\n",
      "\n",
      "7 x 3 = 21\n",
      "\n",
      "\n",
      "7 x 4 = 28\n",
      "\n",
      "\n",
      "7 x 5 = 35\n",
      "\n",
      "\n",
      "7 x 6 = 42\n",
      "\n",
      "\n",
      "7 x 7 = 49\n",
      "\n",
      "\n",
      "7 x 8 = 56\n",
      "\n",
      "\n",
      "7 x 9 = 63\n",
      "\n",
      "\n",
      "7 x 10 = 70\n",
      "\n",
      "\n",
      "8 x 1 = 8\n",
      "\n",
      "\n",
      "8 x 2 = 16\n",
      "\n",
      "\n",
      "8 x 3 = 24\n",
      "\n",
      "\n",
      "8 x 4 = 32\n",
      "\n",
      "\n",
      "8 x 5 = 40\n",
      "\n",
      "\n",
      "8 x 6 = 48\n",
      "\n",
      "\n",
      "8 x 7 = 56\n",
      "\n",
      "\n",
      "8 x 8 = 64\n",
      "\n",
      "\n",
      "8 x 9 = 72\n",
      "\n",
      "\n",
      "8 x 10 = 80\n",
      "\n",
      "\n",
      "9 x 1 = 9\n",
      "\n",
      "\n",
      "9 x 2 = 18\n",
      "\n",
      "\n",
      "9 x 3 = 27\n",
      "\n",
      "\n",
      "9 x 4 = 36\n",
      "\n",
      "\n",
      "9 x 5 = 45\n",
      "\n",
      "\n",
      "9 x 6 = 54\n",
      "\n",
      "\n",
      "9 x 7 = 63\n",
      "\n",
      "\n",
      "9 x 8 = 72\n",
      "\n",
      "\n",
      "9 x 9 = 81\n",
      "\n",
      "\n",
      "9 x 10 = 90\n",
      "\n",
      "\n",
      "10 x 1 = 10\n",
      "\n",
      "\n",
      "10 x 2 = 20\n",
      "\n",
      "\n",
      "10 x 3 = 30\n",
      "\n",
      "\n",
      "10 x 4 = 40\n",
      "\n",
      "\n",
      "10 x 5 = 50\n",
      "\n",
      "\n",
      "10 x 6 = 60\n",
      "\n",
      "\n",
      "10 x 7 = 70\n",
      "\n",
      "\n",
      "10 x 8 = 80\n",
      "\n",
      "\n",
      "10 x 9 = 90\n",
      "\n",
      "\n",
      "10 x 10 = 100\n",
      "\n",
      "\n"
     ]
    }
   ],
   "source": [
    "for i in range(5,11):\n",
    "    for j in range(1,11):\n",
    "        print(i,\"x\",j,\"=\",i*j)\n",
    "        print(\"\\n\")\n",
    "        \n",
    "        \n",
    "    "
   ]
  },
  {
   "cell_type": "code",
   "execution_count": 1,
   "metadata": {},
   "outputs": [
    {
     "name": "stdout",
     "output_type": "stream",
     "text": [
      "1\n",
      "2\n",
      "6\n",
      "24\n",
      "120\n"
     ]
    }
   ],
   "source": [
    "# wap to find the factorial of a num using a for loop.\n",
    "num=int(input(\"enter any num:\"))\n",
    "fact=1\n",
    "for i in range(1,num+1):\n",
    "    fact=fact*i\n",
    "    print(fact)"
   ]
  },
  {
   "cell_type": "code",
   "execution_count": 4,
   "metadata": {},
   "outputs": [
    {
     "ename": "SyntaxError",
     "evalue": "invalid syntax (92039017.py, line 9)",
     "output_type": "error",
     "traceback": [
      "\u001b[1;36m  Cell \u001b[1;32mIn[4], line 9\u001b[1;36m\u001b[0m\n\u001b[1;33m    elif marks>=75 and <90:\u001b[0m\n\u001b[1;37m                       ^\u001b[0m\n\u001b[1;31mSyntaxError\u001b[0m\u001b[1;31m:\u001b[0m invalid syntax\n"
     ]
    }
   ],
   "source": [
    "# create a program that takes the user's makes(out of 100) as input and prints their grade based on the following.\n",
    "#grade a: marks >=90\n",
    "#grade b: marks >=75 and <90\n",
    "#grade c: marks >=50 and <75\n",
    "#fail: marks <50\n",
    "marks=int(input(\"enter any num:\"))\n",
    "if marks>=90:\n",
    "    print(\"A\")\n",
    "elif marks>=75 and <90:\n",
    "    print(\"B\")\n",
    "elif marks >=50 and <75:\n",
    "    print(\"C\")\n",
    "elif marks >50:\n",
    "    print(\"fail\")\n",
    "        \n",
    "            "
   ]
  },
  {
   "cell_type": "code",
   "execution_count": 8,
   "metadata": {},
   "outputs": [
    {
     "name": "stdout",
     "output_type": "stream",
     "text": [
      "positive num\n"
     ]
    }
   ],
   "source": [
    "# wap to check whether a num is positive ,negative, or zero.\n",
    "n=int(input(\"enter any num:\"))\n",
    "if n>0:\n",
    "    print(\"positive num\")\n",
    "elif n==0:\n",
    "    print(\"zero num\") \n",
    "else:\n",
    "    print(\"negative num\")       "
   ]
  },
  {
   "cell_type": "code",
   "execution_count": 10,
   "metadata": {},
   "outputs": [
    {
     "name": "stdout",
     "output_type": "stream",
     "text": [
      "leap year\n"
     ]
    }
   ],
   "source": [
    "# wap to check if a year is leap year or not.\n",
    "year=int(input(\"enter any num:\"))\n",
    "if year%4==0:\n",
    "    print(\"leap year\")\n",
    "else:\n",
    "    print(\"not leap year\")    "
   ]
  },
  {
   "cell_type": "code",
   "execution_count": 14,
   "metadata": {},
   "outputs": [
    {
     "name": "stdout",
     "output_type": "stream",
     "text": [
      "2 4 6 8 10 12 14 16 18 20 22 24 26 28 30 32 34 36 38 40 42 44 46 48 50 "
     ]
    }
   ],
   "source": [
    "# wap tp print all even num between 1 to 50.\n",
    "for i in range(1,51):\n",
    "    if i%2==0:\n",
    "        print(i,end=\" \")"
   ]
  },
  {
   "cell_type": "code",
   "execution_count": 17,
   "metadata": {},
   "outputs": [
    {
     "name": "stdout",
     "output_type": "stream",
     "text": [
      "consonent\n"
     ]
    }
   ],
   "source": [
    "ch=input(\"enter any alphabet:\")\n",
    "if ch in ('a','e','i','o','u','A','E','I','O','U'):\n",
    "    print(\"vowel\")\n",
    "else:\n",
    "    print(\"consonent\")    \n",
    "\n",
    "    \n",
    "\n",
    "\n",
    "\n",
    "\n"
   ]
  }
 ],
 "metadata": {
  "kernelspec": {
   "display_name": "base",
   "language": "python",
   "name": "python3"
  },
  "language_info": {
   "codemirror_mode": {
    "name": "ipython",
    "version": 3
   },
   "file_extension": ".py",
   "mimetype": "text/x-python",
   "name": "python",
   "nbconvert_exporter": "python",
   "pygments_lexer": "ipython3",
   "version": "3.12.8"
  }
 },
 "nbformat": 4,
 "nbformat_minor": 2
}
