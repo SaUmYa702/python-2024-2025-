{
 "cells": [
  {
   "cell_type": "code",
   "execution_count": 1,
   "metadata": {},
   "outputs": [
    {
     "name": "stdout",
     "output_type": "stream",
     "text": [
      "c is largest num\n"
     ]
    }
   ],
   "source": [
    "# WAP to print largest of three number entered by users.\n",
    "a=int(input(\"enter a num:\"))\n",
    "b=int(input(\"enter b num:\"))\n",
    "c=int(input(\"enter c num:\"))\n",
    "if a>b and a>c:\n",
    "    print(\"a is largest num\")\n",
    "elif b>a and b>c:\n",
    "    print(\"b is largest num\") \n",
    "elif c>a and c>b:\n",
    "    print(\"c is largest num\")       "
   ]
  }
 ],
 "metadata": {
  "kernelspec": {
   "display_name": "base",
   "language": "python",
   "name": "python3"
  },
  "language_info": {
   "codemirror_mode": {
    "name": "ipython",
    "version": 3
   },
   "file_extension": ".py",
   "mimetype": "text/x-python",
   "name": "python",
   "nbconvert_exporter": "python",
   "pygments_lexer": "ipython3",
   "version": "3.12.8"
  }
 },
 "nbformat": 4,
 "nbformat_minor": 2
}
