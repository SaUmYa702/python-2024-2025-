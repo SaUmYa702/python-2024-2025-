{
 "cells": [
  {
   "cell_type": "code",
   "execution_count": 2,
   "metadata": {},
   "outputs": [
    {
     "name": "stdout",
     "output_type": "stream",
     "text": [
      "[1, 2, 3, 4, 5, 6, 7]\n",
      "<class 'list'>\n"
     ]
    }
   ],
   "source": [
    "# list in python\n",
    "num=[1,2,3,4,5,6,7]\n",
    "print(num)\n",
    "print(type(num))"
   ]
  },
  {
   "cell_type": "code",
   "execution_count": 3,
   "metadata": {},
   "outputs": [
    {
     "name": "stdout",
     "output_type": "stream",
     "text": [
      "[1, 2, 77.8, 'saumya', 'True', 'mango']\n",
      "<class 'list'>\n"
     ]
    }
   ],
   "source": [
    "# mixed list\n",
    "num=[1,2,77.8,\"saumya\",\"True\",\"mango\"]\n",
    "print(num)\n",
    "print(type(num))"
   ]
  },
  {
   "cell_type": "code",
   "execution_count": 6,
   "metadata": {},
   "outputs": [
    {
     "name": "stdout",
     "output_type": "stream",
     "text": [
      "[1, 2, [2, 3, 4, 5], [6, 5, 3, 2], 'v']\n"
     ]
    }
   ],
   "source": [
    "# nested list\n",
    "ss=[1,2,[2,3,4,5],[6,5,3,2],\"v\"]\n",
    "print(ss)"
   ]
  },
  {
   "cell_type": "code",
   "execution_count": 8,
   "metadata": {},
   "outputs": [
    {
     "name": "stdout",
     "output_type": "stream",
     "text": [
      "10\n",
      "20\n",
      "50\n",
      "20\n",
      "40\n"
     ]
    }
   ],
   "source": [
    "# access list -indexing\n",
    "num=[10,20,30,70,40,20,50,55]\n",
    "print(num[0])\n",
    "print(num[5])\n",
    "print(num[-2])\n",
    "print(num[-3])\n",
    "print(num[4])"
   ]
  },
  {
   "cell_type": "code",
   "execution_count": 17,
   "metadata": {},
   "outputs": [
    {
     "name": "stdout",
     "output_type": "stream",
     "text": [
      "[20, 30, 40]\n",
      "[10, 20]\n",
      "[10, 30, 50, 70]\n",
      "[50, 60, 70]\n",
      "[80, 70, 60, 50, 40, 30, 20, 10]\n",
      "[60, 70, 80]\n"
     ]
    }
   ],
   "source": [
    "# list sciling.\n",
    "# slice from index 1 to 3.\n",
    "number=[10,20,30,40,50,60,70,80]\n",
    "print(number[1:4])\n",
    "# slice from start to index.\n",
    "print(number[:2])\n",
    "# slice all alternative elements.\n",
    "print(number[0::2])\n",
    "# slice with negative index.\n",
    "print(number[-4:-1])\n",
    "# reverse list\n",
    "print(number[::-1])\n",
    "# last 3 element.\n",
    "print(number[-3:])"
   ]
  },
  {
   "cell_type": "code",
   "execution_count": 18,
   "metadata": {},
   "outputs": [
    {
     "name": "stdout",
     "output_type": "stream",
     "text": [
      "['apple', 'blueberry', 'banana', 'grapes', 'kiwi']\n"
     ]
    }
   ],
   "source": [
    "# list modify\n",
    "# replace\n",
    "fruits=[\"apple\",\"mango\",\"banana\",\"grapes\",\"kiwi\"]\n",
    "fruits[1]=\"blueberry\"\n",
    "print(fruits)"
   ]
  },
  {
   "cell_type": "code",
   "execution_count": 20,
   "metadata": {},
   "outputs": [
    {
     "name": "stdout",
     "output_type": "stream",
     "text": [
      "['apple', 'mango', 'banana', 'grapes', 'kiwi', 'orange']\n"
     ]
    }
   ],
   "source": [
    "# add element in list\n",
    "fruits=[\"apple\",\"mango\",\"banana\",\"grapes\",\"kiwi\"]\n",
    "fruits.append(\"orange\")\n",
    "print(fruits)"
   ]
  },
  {
   "cell_type": "code",
   "execution_count": 21,
   "metadata": {},
   "outputs": [
    {
     "name": "stdout",
     "output_type": "stream",
     "text": [
      "['mango', 'banana', 'grapes', 'kiwi']\n"
     ]
    }
   ],
   "source": [
    "# remove element in list\n",
    "fruits=[\"apple\",\"mango\",\"banana\",\"grapes\",\"kiwi\"]\n",
    "fruits.remove(\"apple\")\n",
    "print(fruits)"
   ]
  }
 ],
 "metadata": {
  "kernelspec": {
   "display_name": "base",
   "language": "python",
   "name": "python3"
  },
  "language_info": {
   "codemirror_mode": {
    "name": "ipython",
    "version": 3
   },
   "file_extension": ".py",
   "mimetype": "text/x-python",
   "name": "python",
   "nbconvert_exporter": "python",
   "pygments_lexer": "ipython3",
   "version": "3.12.3"
  }
 },
 "nbformat": 4,
 "nbformat_minor": 2
}
