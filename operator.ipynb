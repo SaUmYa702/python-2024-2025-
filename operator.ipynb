{
 "cells": [
  {
   "cell_type": "markdown",
   "metadata": {},
   "source": []
  },
  {
   "cell_type": "code",
   "execution_count": null,
   "metadata": {},
   "outputs": [],
   "source": []
  },
  {
   "cell_type": "code",
   "execution_count": 4,
   "metadata": {},
   "outputs": [
    {
     "name": "stdout",
     "output_type": "stream",
     "text": [
      "5\n"
     ]
    }
   ],
   "source": [
    "x=5\n",
    "print(x)\n",
    "\n",
    "\n",
    "\n",
    "\n",
    "\n"
   ]
  },
  {
   "cell_type": "code",
   "execution_count": null,
   "metadata": {},
   "outputs": [
    {
     "name": "stdout",
     "output_type": "stream",
     "text": [
      "5\n",
      "10\n",
      "20\n",
      "8.0\n",
      "0\n",
      "8\n",
      "8\n",
      "5\n",
      "10\n",
      "8\n",
      "40\n",
      "8.0\n",
      "1.0\n",
      "1.0\n"
     ]
    },
    {
     "ename": "NameError",
     "evalue": "name 's' is not defined",
     "output_type": "error",
     "traceback": [
      "\u001b[1;31m---------------------------------------------------------------------------\u001b[0m",
      "\u001b[1;31mNameError\u001b[0m                                 Traceback (most recent call last)",
      "Cell \u001b[1;32mIn[20], line 50\u001b[0m\n\u001b[0;32m     47\u001b[0m x\u001b[38;5;241m=\u001b[39mx\u001b[38;5;241m*\u001b[39m\u001b[38;5;241m*\u001b[39m\u001b[38;5;241m5\u001b[39m\n\u001b[0;32m     48\u001b[0m \u001b[38;5;28mprint\u001b[39m(x)\n\u001b[1;32m---> 50\u001b[0m \u001b[43ms\u001b[49m\u001b[38;5;241m==\u001b[39m\u001b[38;5;241m6\u001b[39m\n\u001b[0;32m     51\u001b[0m \u001b[38;5;28mprint\u001b[39m(s)\n",
      "\u001b[1;31mNameError\u001b[0m: name 's' is not defined"
     ]
    }
   ],
   "source": [
    "a=20\n",
    "b=15\n",
    "print(a-b)\n",
    "\n",
    "a=80\n",
    "b=70\n",
    "c=80-70\n",
    "print(c)\n",
    "\n",
    "a=10\n",
    "b=2\n",
    "c=a*b\n",
    "print(c)\n",
    "\n",
    "a=80\n",
    "b=10\n",
    "c=a/b\n",
    "print(c)\n",
    "\n",
    "a=80\n",
    "b=10\n",
    "c=a%b\n",
    "print(c)\n",
    "\n",
    "a=80\n",
    "b=10\n",
    "c=a//b\n",
    "print(c)\n",
    "\n",
    "a=2\n",
    "b=3\n",
    "c=a**b\n",
    "print(c)\n",
    "\n",
    "x=5\n",
    "print(x)\n",
    "x=x+5\n",
    "print(x)\n",
    "x=x-2\n",
    "print(x)\n",
    "x=x*5\n",
    "print(x)\n",
    "x=x/5\n",
    "print(x)\n",
    "x=x//5\n",
    "print(x)\n",
    "x=x**5\n",
    "print(x)\n",
    "\n",
    "\n"
   ]
  }
 ],
 "metadata": {
  "kernelspec": {
   "display_name": "Python 3",
   "language": "python",
   "name": "python3"
  },
  "language_info": {
   "codemirror_mode": {
    "name": "ipython",
    "version": 3
   },
   "file_extension": ".py",
   "mimetype": "text/x-python",
   "name": "python",
   "nbconvert_exporter": "python",
   "pygments_lexer": "ipython3",
   "version": "3.12.6"
  }
 },
 "nbformat": 4,
 "nbformat_minor": 2
}
