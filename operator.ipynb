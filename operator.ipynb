{
 "cells": [
  {
   "cell_type": "markdown",
   "metadata": {},
   "source": []
  },
  {
   "cell_type": "code",
   "execution_count": 4,
   "metadata": {},
   "outputs": [
    {
     "name": "stdout",
     "output_type": "stream",
     "text": [
      "8\n",
      "2\n",
      "15\n",
      "2\n",
      "1\n",
      "125\n",
      "1.6666666666666667\n"
     ]
    }
   ],
   "source": [
    "# operator\n",
    "# 1. Arithmetic operators\n",
    "a=5\n",
    "b=3\n",
    "print(a+b) # addition operator\n",
    "print(a-b) # subtraction operator\n",
    "print(a*b) # multiplication operator\n",
    "print(a%b) # modulus operator\n",
    "print(a//b) # floor division\n",
    "print(a**b) # exponentiation\n",
    "print(a/b)  # division"
   ]
  },
  {
   "cell_type": "code",
   "execution_count": 8,
   "metadata": {},
   "outputs": [
    {
     "name": "stdout",
     "output_type": "stream",
     "text": [
      "True\n",
      "False\n",
      "False\n",
      "True\n"
     ]
    }
   ],
   "source": [
    "# comparison operator. - output is boolean value(T/F).\n",
    "a=6\n",
    "b=3\n",
    "print(a>b) # grater then operator\n",
    "print(a<b) # less then operator\n",
    "print(a==b) # equal operator \n",
    "print(a!=b) #  not equal operator"
   ]
  },
  {
   "cell_type": "code",
   "execution_count": 12,
   "metadata": {},
   "outputs": [
    {
     "name": "stdout",
     "output_type": "stream",
     "text": [
      "5\n",
      "10\n",
      "3\n",
      "25\n"
     ]
    }
   ],
   "source": [
    "# Assignment operator\n",
    "a=5 \n",
    "print(a)\n",
    "b=a+5\n",
    "print(b)\n",
    "c=a-2\n",
    "print(c)\n",
    "\n",
    "d=a*5\n",
    "print(d)"
   ]
  },
  {
   "cell_type": "code",
   "execution_count": 6,
   "metadata": {},
   "outputs": [
    {
     "name": "stdout",
     "output_type": "stream",
     "text": [
      "False\n",
      "True\n",
      "True\n",
      "False\n",
      "False\n"
     ]
    }
   ],
   "source": [
    "# Logical operator.\n",
    "# Rule for 'and' operator.\n",
    "# True +True=True\n",
    "#True+False=False\n",
    "#False+False=False\n",
    "a=10\n",
    "b=20\n",
    "print(a>b and a<b)\n",
    "print(b>a and a<b)\n",
    "# Rule for 'or' operator.\n",
    "#True+True=True\n",
    "#True+False=True\n",
    "\n",
    "print(a==10 or a>20)\n",
    "print(a>b or b<a)\n",
    "\n",
    "# Not operator.\n",
    "# reverse result\n",
    "print(not(a==10))\n",
    "\n",
    "\n"
   ]
  },
  {
   "cell_type": "code",
   "execution_count": 10,
   "metadata": {},
   "outputs": [
    {
     "name": "stdout",
     "output_type": "stream",
     "text": [
      "True\n",
      "False\n"
     ]
    }
   ],
   "source": [
    "# identyte operator\n",
    "# is,is not\n",
    "x=[1,2,3]\n",
    "y= x\n",
    "z=[1,2,3]\n",
    "print(x is y)\n",
    "print(x is z)"
   ]
  }
 ],
 "metadata": {
  "kernelspec": {
   "display_name": "base",
   "language": "python",
   "name": "python3"
  },
  "language_info": {
   "codemirror_mode": {
    "name": "ipython",
    "version": 3
   },
   "file_extension": ".py",
   "mimetype": "text/x-python",
   "name": "python",
   "nbconvert_exporter": "python",
   "pygments_lexer": "ipython3",
   "version": "3.12.3"
  }
 },
 "nbformat": 4,
 "nbformat_minor": 2
}
