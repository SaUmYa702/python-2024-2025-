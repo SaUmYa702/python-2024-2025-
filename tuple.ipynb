{
 "cells": [
  {
   "cell_type": "code",
   "execution_count": 1,
   "metadata": {},
   "outputs": [
    {
     "name": "stdout",
     "output_type": "stream",
     "text": [
      "('apple', 'grapes', 'mango', 33, 22, 9.0, 33)\n"
     ]
    }
   ],
   "source": [
    "fruits=(\"apple\",\"grapes\",\"mango\",33,22,9.0,33)\n",
    "print(fruits)"
   ]
  },
  {
   "cell_type": "code",
   "execution_count": 2,
   "metadata": {},
   "outputs": [
    {
     "name": "stdout",
     "output_type": "stream",
     "text": [
      "(1, [2, 3, 4, 5], (9, 0, 7, 6), 7)\n"
     ]
    }
   ],
   "source": [
    "a=(1,[2,3,4,5],(9,0,7,6),7) # this is nested tuple\n",
    "print(a)"
   ]
  },
  {
   "cell_type": "code",
   "execution_count": 4,
   "metadata": {},
   "outputs": [
    {
     "name": "stdout",
     "output_type": "stream",
     "text": [
      "(1, 4, 5, 6, 7)\n",
      "<class 'tuple'>\n"
     ]
    }
   ],
   "source": [
    "# without perenthesis.\n",
    "tuple_1=1,4,5,6,7\n",
    "print(tuple_1)\n",
    "print(type(tuple_1))"
   ]
  },
  {
   "cell_type": "code",
   "execution_count": 7,
   "metadata": {},
   "outputs": [
    {
     "name": "stdout",
     "output_type": "stream",
     "text": [
      "('saumya', 88, 'True', 9.9)\n",
      "<class 'tuple'>\n"
     ]
    }
   ],
   "source": [
    "# using tuple constructor.\n",
    "x=tuple((\"saumya\",88,\"True\",9.9))\n",
    "print(x)\n",
    "print(type(x))"
   ]
  },
  {
   "cell_type": "code",
   "execution_count": 8,
   "metadata": {},
   "outputs": [
    {
     "name": "stdout",
     "output_type": "stream",
     "text": [
      "(1, 2, 3, 4, 5)\n"
     ]
    }
   ],
   "source": [
    "#list convert into tuple.\n",
    "list=[1,2,3,4,5]\n",
    "tup_1=tuple(list)\n",
    "print(tup_1)"
   ]
  },
  {
   "cell_type": "code",
   "execution_count": 12,
   "metadata": {},
   "outputs": [
    {
     "name": "stdout",
     "output_type": "stream",
     "text": [
      "<class 'tuple'>\n",
      "('saumya',)\n"
     ]
    }
   ],
   "source": [
    "# create a single element\n",
    "a=(\"saumya\",)\n",
    "print(type(a))\n",
    "print(a)\n"
   ]
  },
  {
   "cell_type": "code",
   "execution_count": 15,
   "metadata": {},
   "outputs": [
    {
     "name": "stdout",
     "output_type": "stream",
     "text": [
      "saumya\n",
      "gopal\n",
      "gopal\n"
     ]
    }
   ],
   "source": [
    "# tuple indexing\n",
    "tup_1=(\"saumya\",\"monika\",\"abhishek\",\"gopal\")\n",
    "print(tup_1[0])\n",
    "print(tup_1[3])\n",
    "print(tup_1[-1])"
   ]
  },
  {
   "cell_type": "code",
   "execution_count": 20,
   "metadata": {},
   "outputs": [
    {
     "name": "stdout",
     "output_type": "stream",
     "text": [
      "(10, 20, 30)\n",
      "(10, 30, 50, 70)\n",
      "(10, 40, 70)\n",
      "(80, 70, 60, 50, 40, 30, 20, 10)\n"
     ]
    }
   ],
   "source": [
    "# tuple sciling.\n",
    "new_tuple=(10,20,30,40,50,60,70,80)\n",
    "print(new_tuple[0:3])\n",
    "print(new_tuple[0::2])\n",
    "print(new_tuple[0::3])\n",
    "print(new_tuple[::-1])\n"
   ]
  },
  {
   "cell_type": "code",
   "execution_count": 1,
   "metadata": {},
   "outputs": [
    {
     "name": "stdout",
     "output_type": "stream",
     "text": [
      "(2, 3, 4, 5, 'a', 'b')\n"
     ]
    }
   ],
   "source": [
    "# tuple operation\n",
    "# concatenate-join tuples\n",
    "tup1=(2,3,4,5)\n",
    "tup2=(\"a\",\"b\")\n",
    "tup3=tup1+tup2\n",
    "print(tup3)"
   ]
  },
  {
   "cell_type": "code",
   "execution_count": 2,
   "metadata": {},
   "outputs": [
    {
     "name": "stdout",
     "output_type": "stream",
     "text": [
      "(1, 2, 3, 1, 2, 3, 1, 2, 3)\n"
     ]
    }
   ],
   "source": [
    "# Repetitive.\n",
    "tup1=(1,2,3)\n",
    "tup2=tup1*3\n",
    "print(tup2)\n"
   ]
  },
  {
   "cell_type": "code",
   "execution_count": 3,
   "metadata": {},
   "outputs": [
    {
     "name": "stdout",
     "output_type": "stream",
     "text": [
      "True\n"
     ]
    }
   ],
   "source": [
    "# cheacking for in item.\n",
    "fruits=(\"apple\",\"banana\",\"orange\",\"mango\")\n",
    "print(\"banana\" in fruits)"
   ]
  },
  {
   "cell_type": "code",
   "execution_count": 4,
   "metadata": {},
   "outputs": [
    {
     "name": "stdout",
     "output_type": "stream",
     "text": [
      "apple\n",
      "banana\n",
      "kiwi\n",
      "orange\n"
     ]
    }
   ],
   "source": [
    "# tuple iteration.\n",
    "# using for loop.\n",
    "fruit=(\"apple\",\"banana\",\"kiwi\",\"orange\")\n",
    "for i in fruit:\n",
    "    print(i)"
   ]
  },
  {
   "cell_type": "code",
   "execution_count": 5,
   "metadata": {},
   "outputs": [
    {
     "name": "stdout",
     "output_type": "stream",
     "text": [
      "apple\n",
      "orange\n",
      "kiwi\n"
     ]
    }
   ],
   "source": [
    "# using while loop.\n",
    "fruits=(\"apple\",\"orange\",\"kiwi\")\n",
    "i=0\n",
    "while i <len(fruits):\n",
    "    print(fruits[i])\n",
    "    i +=1"
   ]
  },
  {
   "cell_type": "code",
   "execution_count": 6,
   "metadata": {},
   "outputs": [
    {
     "name": "stdout",
     "output_type": "stream",
     "text": [
      "2\n"
     ]
    }
   ],
   "source": [
    "# tuple method\n",
    "#1.count\n",
    "color=(\"yello\",\"pink\",\"orange\",\"green\",\"green\",\"pink\")\n",
    "print(color.count(\"green\"))"
   ]
  },
  {
   "cell_type": "code",
   "execution_count": 7,
   "metadata": {},
   "outputs": [
    {
     "name": "stdout",
     "output_type": "stream",
     "text": [
      "3\n"
     ]
    }
   ],
   "source": [
    "#2.index\n",
    "color=(\"yello\",\"pink\",\"orange\",\"green\",\"green\",\"pink\")\n",
    "print(color.index(\"green\"))"
   ]
  },
  {
   "cell_type": "code",
   "execution_count": 8,
   "metadata": {},
   "outputs": [
    {
     "name": "stdout",
     "output_type": "stream",
     "text": [
      "7\n"
     ]
    }
   ],
   "source": [
    "# tuple function.\n",
    "#1.len\n",
    "num=(1,3,4,5,6,7,7)\n",
    "print(len(num))"
   ]
  },
  {
   "cell_type": "code",
   "execution_count": 10,
   "metadata": {},
   "outputs": [
    {
     "name": "stdout",
     "output_type": "stream",
     "text": [
      "1\n"
     ]
    }
   ],
   "source": [
    "# min\n",
    "num=(1,2,4,5,6,7,99)\n",
    "print(min(num))"
   ]
  },
  {
   "cell_type": "code",
   "execution_count": 11,
   "metadata": {},
   "outputs": [
    {
     "name": "stdout",
     "output_type": "stream",
     "text": [
      "7\n"
     ]
    }
   ],
   "source": [
    "# max\n",
    "num=(1,3,4,5,6,7,7)\n",
    "print(max(num))"
   ]
  },
  {
   "cell_type": "code",
   "execution_count": 13,
   "metadata": {},
   "outputs": [
    {
     "name": "stdout",
     "output_type": "stream",
     "text": [
      "[1, 2, 4, 4, 5, 7, 8]\n"
     ]
    }
   ],
   "source": [
    "# sort\n",
    "num=(4,5,2,1,8,7,4)\n",
    "print(sorted(num))"
   ]
  },
  {
   "cell_type": "markdown",
   "metadata": {},
   "source": [
    "#2. sum\n",
    "num=(1,3,4,5,6,7,7)\n",
    "print(sum(num))"
   ]
  },
  {
   "cell_type": "code",
   "execution_count": 14,
   "metadata": {},
   "outputs": [
    {
     "name": "stdout",
     "output_type": "stream",
     "text": [
      "('madhav', 54, 'engineer')\n"
     ]
    }
   ],
   "source": [
    "# tuple pack and unpack.\n",
    "a=\"madhav\"\n",
    "b=54\n",
    "c=\"engineer\"\n",
    "tup_pack=(a,b,c)\n",
    "print(tup_pack)"
   ]
  },
  {
   "cell_type": "code",
   "execution_count": 15,
   "metadata": {},
   "outputs": [
    {
     "name": "stdout",
     "output_type": "stream",
     "text": [
      "madhav\n",
      "54\n",
      "engineer\n"
     ]
    }
   ],
   "source": [
    "name,age,profession=tup_pack\n",
    "print(name)\n",
    "print(age)\n",
    "print(profession)"
   ]
  },
  {
   "cell_type": "code",
   "execution_count": 20,
   "metadata": {},
   "outputs": [
    {
     "name": "stdout",
     "output_type": "stream",
     "text": [
      "[1, 3, 5, 6, 3]\n",
      "[100, 3, 5, 6, 3]\n"
     ]
    }
   ],
   "source": [
    "# how to mutate/mpdify tuple\n",
    "a=(1,3,5,6,3)\n",
    "b=list(a)\n",
    "print(b)\n",
    "b[0]=100\n",
    "print(b)\n"
   ]
  }
 ],
 "metadata": {
  "kernelspec": {
   "display_name": "base",
   "language": "python",
   "name": "python3"
  },
  "language_info": {
   "codemirror_mode": {
    "name": "ipython",
    "version": 3
   },
   "file_extension": ".py",
   "mimetype": "text/x-python",
   "name": "python",
   "nbconvert_exporter": "python",
   "pygments_lexer": "ipython3",
   "version": "3.12.3"
  }
 },
 "nbformat": 4,
 "nbformat_minor": 2
}
