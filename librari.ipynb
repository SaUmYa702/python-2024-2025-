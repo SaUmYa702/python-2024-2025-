{
 "cells": [
  {
   "cell_type": "code",
   "execution_count": 1,
   "metadata": {},
   "outputs": [],
   "source": [
    "import math\n"
   ]
  },
  {
   "cell_type": "code",
   "execution_count": 2,
   "metadata": {},
   "outputs": [
    {
     "name": "stdout",
     "output_type": "stream",
     "text": [
      "5.0\n"
     ]
    }
   ],
   "source": [
    "print(math.sqrt(25))"
   ]
  },
  {
   "cell_type": "code",
   "execution_count": 19,
   "metadata": {},
   "outputs": [
    {
     "name": "stdout",
     "output_type": "stream",
     "text": [
      "8.0\n",
      "120\n",
      "1.4422495703074083\n",
      "0.15425144988758405\n",
      "5343237290762.231\n",
      "1096.6331584284585\n",
      "0.6931471805599453\n",
      "4\n",
      "3.321928094887362\n",
      "0.3010299956639812\n",
      "24\n"
     ]
    }
   ],
   "source": [
    "print(math.pow(2,3))\n",
    "print(math.factorial(5))\n",
    "print(math.cbrt(3))\n",
    "print(math.cos(30))\n",
    "print(math.cosh(30))\n",
    "print(math.exp(2+5))\n",
    "print(math.log(2))\n",
    "print(math.floor(4))\n",
    "print(math.log2(10))\n",
    "print(math.log10(2))\n",
    "print(math.lcm(12,8))"
   ]
  },
  {
   "cell_type": "code",
   "execution_count": 20,
   "metadata": {},
   "outputs": [
    {
     "name": "stdout",
     "output_type": "stream",
     "text": [
      "get a random number between 0 and 1: 0.0884670122075073\n"
     ]
    }
   ],
   "source": [
    "from random import random, randint, choice,shuffle\n",
    "print('get a random number between 0 and 1:',random())"
   ]
  },
  {
   "cell_type": "code",
   "execution_count": 23,
   "metadata": {},
   "outputs": [
    {
     "name": "stdout",
     "output_type": "stream",
     "text": [
      "get a rendint number between 1 and 100: 44\n"
     ]
    }
   ],
   "source": [
    "print('get a rendint number between 1 and 100:',randint(1,100))"
   ]
  }
 ],
 "metadata": {
  "kernelspec": {
   "display_name": "base",
   "language": "python",
   "name": "python3"
  },
  "language_info": {
   "codemirror_mode": {
    "name": "ipython",
    "version": 3
   },
   "file_extension": ".py",
   "mimetype": "text/x-python",
   "name": "python",
   "nbconvert_exporter": "python",
   "pygments_lexer": "ipython3",
   "version": "3.12.3"
  }
 },
 "nbformat": 4,
 "nbformat_minor": 2
}
