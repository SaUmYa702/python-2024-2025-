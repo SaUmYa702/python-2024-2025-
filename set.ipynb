{
 "cells": [
  {
   "cell_type": "code",
   "execution_count": 2,
   "metadata": {},
   "outputs": [
    {
     "name": "stdout",
     "output_type": "stream",
     "text": [
      "<class 'set'>\n",
      "{1, 2, '5.6', 6, 'apple', 'saumya'}\n"
     ]
    }
   ],
   "source": [
    "set_1={1,2,6,\"saumya\",\"apple\",\"5.6\"}\n",
    "print(type(set_1))\n",
    "print(set_1)"
   ]
  },
  {
   "cell_type": "code",
   "execution_count": 3,
   "metadata": {},
   "outputs": [
    {
     "name": "stdout",
     "output_type": "stream",
     "text": [
      "{'orange', 'kiwi', 'mango', 'apple'}\n"
     ]
    }
   ],
   "source": [
    "# create set useing by constructor.\n",
    "fruits=set([\"apple\",\"mango\",\"kiwi\",\"orange\"])\n",
    "print(fruits)"
   ]
  },
  {
   "cell_type": "code",
   "execution_count": 4,
   "metadata": {},
   "outputs": [
    {
     "name": "stdout",
     "output_type": "stream",
     "text": [
      "{'orange', 'kiwi', 'grapes', 'apple', 'mango'}\n"
     ]
    }
   ],
   "source": [
    "# set operation.\n",
    "# add elements.\n",
    "fruits={\"apple\",\"mango\",\"kiwi\",\"orange\"}\n",
    "fruits.add(\"grapes\")\n",
    "print(fruits)"
   ]
  },
  {
   "cell_type": "code",
   "execution_count": 10,
   "metadata": {},
   "outputs": [
    {
     "name": "stdout",
     "output_type": "stream",
     "text": [
      "{'zemato', 'google', 'facebook'}\n"
     ]
    }
   ],
   "source": [
    "app={\"google\",\"whatsapp\",\"zemato\",\"facebook\"}\n",
    "app.remove(\"whatsapp\")\n",
    "print(app)"
   ]
  },
  {
   "cell_type": "code",
   "execution_count": 7,
   "metadata": {},
   "outputs": [
    {
     "name": "stdout",
     "output_type": "stream",
     "text": [
      "{'zemato', 'google', 'facebook'}\n"
     ]
    }
   ],
   "source": [
    "app={\"google\",\"whatsapp\",\"zemato\",\"facebook\"}\n",
    "app.discard(\"whatsapp\")\n",
    "print(app)"
   ]
  },
  {
   "cell_type": "code",
   "execution_count": 12,
   "metadata": {},
   "outputs": [
    {
     "name": "stdout",
     "output_type": "stream",
     "text": [
      "{1, 2, 3, 4, 5, 6, 7, 8}\n",
      "{1, 2, 3, 4, 5, 6, 7, 8}\n"
     ]
    }
   ],
   "source": [
    "# set method.\n",
    "#1 union- combine elements from two sets.\n",
    "set1={1,2,3,4,5,6} \n",
    "set2={2,3,4,5,7,8}\n",
    "c=set1.union(set2)\n",
    "print(c)\n",
    "# union alternative\n",
    "c=set1|set2\n",
    "print(c)"
   ]
  },
  {
   "cell_type": "code",
   "execution_count": 14,
   "metadata": {},
   "outputs": [
    {
     "name": "stdout",
     "output_type": "stream",
     "text": [
      "{1, 3, 5, 7}\n",
      "{1, 3, 5, 7}\n"
     ]
    }
   ],
   "source": [
    "# 2 intersection- commman elements\n",
    "set_1={1,3,6,7,5,3}\n",
    "set_2={1,4,5,7,9,0,3,2}\n",
    "set_3=set_1.intersection(set_2)\n",
    "print(set_3)\n",
    "# intersection alternative\n",
    "set_3=set_1&set_2\n",
    "print(set_3)\n"
   ]
  }
 ],
 "metadata": {
  "kernelspec": {
   "display_name": "base",
   "language": "python",
   "name": "python3"
  },
  "language_info": {
   "codemirror_mode": {
    "name": "ipython",
    "version": 3
   },
   "file_extension": ".py",
   "mimetype": "text/x-python",
   "name": "python",
   "nbconvert_exporter": "python",
   "pygments_lexer": "ipython3",
   "version": "3.12.3"
  }
 },
 "nbformat": 4,
 "nbformat_minor": 2
}
