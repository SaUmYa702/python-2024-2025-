{
 "cells": [
  {
   "cell_type": "code",
   "execution_count": 2,
   "metadata": {},
   "outputs": [
    {
     "name": "stdout",
     "output_type": "stream",
     "text": [
      "<class 'set'>\n",
      "{1, 2, '5.6', 6, 'apple', 'saumya'}\n"
     ]
    }
   ],
   "source": [
    "set_1={1,2,6,\"saumya\",\"apple\",\"5.6\"}\n",
    "print(type(set_1))\n",
    "print(set_1)"
   ]
  },
  {
   "cell_type": "code",
   "execution_count": 3,
   "metadata": {},
   "outputs": [
    {
     "name": "stdout",
     "output_type": "stream",
     "text": [
      "{'orange', 'kiwi', 'mango', 'apple'}\n"
     ]
    }
   ],
   "source": [
    "# create set useing by constructor.\n",
    "fruits=set([\"apple\",\"mango\",\"kiwi\",\"orange\"])\n",
    "print(fruits)"
   ]
  },
  {
   "cell_type": "code",
   "execution_count": 4,
   "metadata": {},
   "outputs": [
    {
     "name": "stdout",
     "output_type": "stream",
     "text": [
      "{'orange', 'kiwi', 'grapes', 'apple', 'mango'}\n"
     ]
    }
   ],
   "source": [
    "# set operation.\n",
    "# add elements.\n",
    "fruits={\"apple\",\"mango\",\"kiwi\",\"orange\"}\n",
    "fruits.add(\"grapes\")\n",
    "print(fruits)"
   ]
  },
  {
   "cell_type": "code",
   "execution_count": 10,
   "metadata": {},
   "outputs": [
    {
     "name": "stdout",
     "output_type": "stream",
     "text": [
      "{'zemato', 'google', 'facebook'}\n"
     ]
    }
   ],
   "source": [
    "app={\"google\",\"whatsapp\",\"zemato\",\"facebook\"}\n",
    "app.remove(\"whatsapp\")\n",
    "print(app)"
   ]
  },
  {
   "cell_type": "code",
   "execution_count": 7,
   "metadata": {},
   "outputs": [
    {
     "name": "stdout",
     "output_type": "stream",
     "text": [
      "{'zemato', 'google', 'facebook'}\n"
     ]
    }
   ],
   "source": [
    "app={\"google\",\"whatsapp\",\"zemato\",\"facebook\"}\n",
    "app.discard(\"whatsapp\")\n",
    "print(app)"
   ]
  },
  {
   "cell_type": "code",
   "execution_count": 11,
   "metadata": {},
   "outputs": [
    {
     "name": "stdout",
     "output_type": "stream",
     "text": [
      "{1, 2, 3, 4, 5, 6, 7, 8}\n"
     ]
    }
   ],
   "source": [
    "# set method.\n",
    "#1 union- combine elements from two sets.\n",
    "set1={1,2,3,4,5,6} \n",
    "set2={2,3,4,5,7,8}\n",
    "c=set1.union(set2)\n",
    "print(c)"
   ]
  }
 ],
 "metadata": {
  "kernelspec": {
   "display_name": "base",
   "language": "python",
   "name": "python3"
  },
  "language_info": {
   "codemirror_mode": {
    "name": "ipython",
    "version": 3
   },
   "file_extension": ".py",
   "mimetype": "text/x-python",
   "name": "python",
   "nbconvert_exporter": "python",
   "pygments_lexer": "ipython3",
   "version": "3.12.3"
  }
 },
 "nbformat": 4,
 "nbformat_minor": 2
}
