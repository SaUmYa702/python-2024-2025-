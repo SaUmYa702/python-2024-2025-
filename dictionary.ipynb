{
 "cells": [
  {
   "cell_type": "code",
   "execution_count": 2,
   "metadata": {},
   "outputs": [
    {
     "name": "stdout",
     "output_type": "stream",
     "text": [
      "{'name': 'mushkan', 'age': 23, 'city': 'jaypur', 'marks': 56}\n"
     ]
    }
   ],
   "source": [
    "student={\n",
    "    \"name\":\"mushkan\",\n",
    "    \"age\":23,\n",
    "    \"city\":\"jaypur\",\n",
    "    \"marks\":56\n",
    "}\n",
    "print(student)\n",
    "    \n",
    "   \n"
   ]
  },
  {
   "cell_type": "markdown",
   "metadata": {},
   "source": [
    "how to declear it\n",
    "how to access key and values of a dictionary\n",
    "how to use loops in dict\n",
    "indexing in dict"
   ]
  },
  {
   "cell_type": "code",
   "execution_count": 3,
   "metadata": {},
   "outputs": [
    {
     "name": "stdout",
     "output_type": "stream",
     "text": [
      "{'name': 'mushkan', 'age': 23, 'city': 'jaypur', 'marks': 56, 'class': 'python'}\n"
     ]
    }
   ],
   "source": [
    "student={\n",
    "    \"name\":\"mushkan\",\n",
    "    \"age\":23,\n",
    "    \"city\":\"jaypur\",\n",
    "    \"marks\":56,\n",
    "    \"class\":\"python\"\n",
    "}\n",
    "print(student)\n",
    "    \n",
    "   \n"
   ]
  },
  {
   "cell_type": "code",
   "execution_count": 4,
   "metadata": {},
   "outputs": [
    {
     "name": "stdout",
     "output_type": "stream",
     "text": [
      "{'lucknow': [23, 45, 67], 'delhi': [23, 12, 56], 'mumbai': [35, 50, 40]}\n"
     ]
    }
   ],
   "source": [
    "temp={\n",
    "    \"lucknow\":[23,45,67],\n",
    "    \"delhi\":[23,12,56],\n",
    "    \"mumbai\":[35,50,40]\n",
    "}\n",
    "print(temp)"
   ]
  },
  {
   "cell_type": "code",
   "execution_count": 7,
   "metadata": {},
   "outputs": [
    {
     "name": "stdout",
     "output_type": "stream",
     "text": [
      "{'name': 'john', 'age': 18, 'rollnum': 12, 'marks': 60}\n"
     ]
    }
   ],
   "source": [
    "info=dict(name=\"john\", age=18,rollnum=12,marks=60)\n",
    "print(info)\n"
   ]
  },
  {
   "cell_type": "code",
   "execution_count": 8,
   "metadata": {},
   "outputs": [
    {
     "name": "stdout",
     "output_type": "stream",
     "text": [
      "{'name': 'saumya', 'age': 56, 'rollno': 12, 'marks': 89}\n"
     ]
    }
   ],
   "source": [
    "info2=dict(name=input(\"enter name:\"),age=int(input(\"enter age:\")),rollno=int(input(\"enter rollnn:\")),marks=int(input(\"enter marks:\")))\n",
    "print(info2)\n",
    "           "
   ]
  },
  {
   "cell_type": "code",
   "execution_count": 10,
   "metadata": {},
   "outputs": [
    {
     "name": "stdout",
     "output_type": "stream",
     "text": [
      "saumya\n",
      "56\n"
     ]
    }
   ],
   "source": [
    "# 1st method to access value through its key\n",
    "print(info2[\"name\"])\n",
    "print(info2[\"age\"])"
   ]
  },
  {
   "cell_type": "code",
   "execution_count": 11,
   "metadata": {},
   "outputs": [
    {
     "name": "stdout",
     "output_type": "stream",
     "text": [
      "saumya\n",
      "89\n"
     ]
    }
   ],
   "source": [
    "# 2nd method to access value through its key\n",
    "print(info2.get(\"name\"))\n",
    "print(info2.get(\"marks\"))"
   ]
  },
  {
   "cell_type": "code",
   "execution_count": 12,
   "metadata": {},
   "outputs": [
    {
     "name": "stdout",
     "output_type": "stream",
     "text": [
      "{'name': 'mushkan', 'age': 23, 'city': 'jaypur', 'marks': 56, 'class': 'python', 'collage': 'srmu'}\n"
     ]
    }
   ],
   "source": [
    "# to add item  in a dict\n",
    "student[\"collage\"]=\"srmu\"\n",
    "print(student)"
   ]
  },
  {
   "cell_type": "code",
   "execution_count": 14,
   "metadata": {},
   "outputs": [
    {
     "name": "stdout",
     "output_type": "stream",
     "text": [
      "dict_keys(['name', 'age', 'city', 'marks', 'class', 'collage'])\n",
      "dict_values(['mushkan', 23, 'jaypur', 56, 'python', 'srmu'])\n"
     ]
    }
   ],
   "source": [
    "print(student.keys())\n",
    "print(student.values())"
   ]
  },
  {
   "cell_type": "code",
   "execution_count": 15,
   "metadata": {},
   "outputs": [
    {
     "name": "stdout",
     "output_type": "stream",
     "text": [
      "name\n",
      "age\n",
      "city\n",
      "marks\n",
      "class\n",
      "collage\n"
     ]
    }
   ],
   "source": [
    "for k in student:\n",
    "    print(k)"
   ]
  },
  {
   "cell_type": "code",
   "execution_count": 17,
   "metadata": {},
   "outputs": [
    {
     "name": "stdout",
     "output_type": "stream",
     "text": [
      "name mushkan\n",
      "age 23\n",
      "city jaypur\n",
      "marks 56\n",
      "class python\n",
      "collage srmu\n"
     ]
    }
   ],
   "source": [
    "for k,v in student.items():\n",
    "    print(k,v)"
   ]
  },
  {
   "cell_type": "code",
   "execution_count": 25,
   "metadata": {},
   "outputs": [
    {
     "name": "stdout",
     "output_type": "stream",
     "text": [
      "{'emp001': {'name': 'john', 'age': 78, 'dept': 'HR'}, 'emp002': {'name': 'doe', 'age': 75, 'dept': 'IT'}, 'emp003': {'name': 'saumya', 'age': 23, 'dept': 'Finance'}}\n",
      "{'name': 'john', 'age': 78, 'dept': 'HR'}\n",
      "{'name': 'saumya', 'age': 23, 'dept': 'Finance'}\n"
     ]
    }
   ],
   "source": [
    "# nested dict\n",
    "company={\n",
    "    \"emp001\":{\n",
    "        \"name\":\"john\",\n",
    "        \"age\":78,\n",
    "        \"dept\":\"HR\"\n",
    "    },\n",
    "    \"emp002\":{\n",
    "        \"name\":\"doe\",\n",
    "        \"age\":75,\n",
    "        \"dept\":\"IT\"\n",
    "    },\n",
    "    \"emp003\":{\n",
    "        \"name\":\"saumya\",\n",
    "        \"age\":23,\n",
    "        \"dept\":\"Finance\"\n",
    "    }\n",
    "}\n",
    "print(company)\n",
    "print(company[\"emp001\"])\n",
    "print(company[\"emp003\"])\n"
   ]
  },
  {
   "cell_type": "code",
   "execution_count": 24,
   "metadata": {},
   "outputs": [
    {
     "name": "stdout",
     "output_type": "stream",
     "text": [
      "{'emp001': {'name': 'john', 'age': 78, 'dept': 'HR'},\n",
      " 'emp002': {'name': 'doe', 'age': 75, 'dept': 'IT'},\n",
      " 'emp003': {'name': 'saumya', 'age': 23, 'dept': 'Finance'}}\n"
     ]
    }
   ],
   "source": [
    "from pprint import pp\n",
    "pp(company)"
   ]
  },
  {
   "cell_type": "code",
   "execution_count": 26,
   "metadata": {},
   "outputs": [
    {
     "name": "stdout",
     "output_type": "stream",
     "text": [
      "75\n"
     ]
    }
   ],
   "source": [
    "# indexing\n",
    "print(company[\"emp002\"][\"age\"])"
   ]
  },
  {
   "cell_type": "code",
   "execution_count": 28,
   "metadata": {},
   "outputs": [
    {
     "name": "stdout",
     "output_type": "stream",
     "text": [
      "45\n",
      "56\n"
     ]
    }
   ],
   "source": [
    "print(temp[\"lucknow\"][1])\n",
    "print(temp[\"delhi\"][2])\n"
   ]
  },
  {
   "cell_type": "code",
   "execution_count": 5,
   "metadata": {},
   "outputs": [
    {
     "name": "stdout",
     "output_type": "stream",
     "text": [
      "Average Temperature of Delhi is: 47.333333333333336\n"
     ]
    }
   ],
   "source": [
    "temp={\n",
    "    \"lucknow\":[23,45,67],\n",
    "    \"delhi\":[33,43,66],\n",
    "    \"mumbai\":[35,50,40]\n",
    "}\n",
    "print(\"Average Temperature of Delhi is:\",sum(temp['delhi'])/len(temp['delhi']))\n",
    "\n"
   ]
  },
  {
   "cell_type": "code",
   "execution_count": 13,
   "metadata": {},
   "outputs": [
    {
     "name": "stdout",
     "output_type": "stream",
     "text": [
      "{'masala': 'spicy', 'Ginger': 'Zesty', 'Green': 'mild'}\n"
     ]
    },
    {
     "data": {
      "text/plain": [
       "'Zesty'"
      ]
     },
     "execution_count": 13,
     "metadata": {},
     "output_type": "execute_result"
    }
   ],
   "source": [
    "chai_types={\"masala\":\"spicy\",\"Ginger\": \"Zesty\",\"Green\":\"mild\"}\n",
    "print(chai_types)\n",
    "chai_types[\"masala\"]\n",
    "chai_types[\"Ginger\"]"
   ]
  },
  {
   "cell_type": "code",
   "execution_count": 15,
   "metadata": {},
   "outputs": [
    {
     "name": "stdout",
     "output_type": "stream",
     "text": [
      "{'masala': 'cold', 'Ginger': 'Zesty', 'Green': 'mild'}\n"
     ]
    }
   ],
   "source": [
    "chai_types[\"masala\"]=\"cold\"\n",
    "print(chai_types)"
   ]
  },
  {
   "cell_type": "code",
   "execution_count": null,
   "metadata": {},
   "outputs": [],
   "source": []
  }
 ],
 "metadata": {
  "kernelspec": {
   "display_name": "base",
   "language": "python",
   "name": "python3"
  },
  "language_info": {
   "codemirror_mode": {
    "name": "ipython",
    "version": 3
   },
   "file_extension": ".py",
   "mimetype": "text/x-python",
   "name": "python",
   "nbconvert_exporter": "python",
   "pygments_lexer": "ipython3",
   "version": "3.12.3"
  }
 },
 "nbformat": 4,
 "nbformat_minor": 2
}
